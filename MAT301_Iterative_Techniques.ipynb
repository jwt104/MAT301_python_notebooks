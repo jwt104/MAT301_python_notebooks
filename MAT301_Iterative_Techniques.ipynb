{
 "cells": [
  {
   "cell_type": "markdown",
   "metadata": {
    "id": "nlr1Ru5KqTRX"
   },
   "source": [
    "# Iterative Solutions to Equations with Python\n",
    "\n",
    "Notebook to implement iterative techinques elements of Abertay University undergrad course MAT301 (JT, 2022).\n",
    "\n",
    "---\n",
    "\n",
    "\n",
    "**Remember:** The aim of MAT301 is for you to understand and implement the mathematics of each iterative solution you have been shown. The MAT301 exam will test your ability to demonstrate the mathematical steps, on pen and paper. \n",
    "\n",
    "These codes are for additional context **once you are able to carry out the mathematical steps**: our ultimate goal is that you are able to create numerical schemes to solve problems for yourselves in future. These codes should **NOT** be used in the exam or replace your pen and paper approach to tutorial problems. However, I do encourage you to use these codes to verify your tutorial solutions after you have already solved the problems mathematically.\n",
    "\n",
    "\n",
    "\n",
    "---\n",
    "\n",
    "Some images and more formal description of the mathematics based upon [Python Programming And Numerical Methods: A Guide For Engineers And Scientists](https://pythonnumericalmethods.berkeley.edu/notebooks/Index.html) which is a really useful resource for many different applications of Python to numerical methods. \n",
    "\n"
   ]
  },
  {
   "cell_type": "markdown",
   "metadata": {
    "id": "Nopr9bZQUGCZ"
   },
   "source": [
    "## Motivation\n",
    "As the name suggests, the roots of a function are one of its most important properties. Finding the roots of functions is important in many engineering applications such as signal processing and optimization. \n",
    "\n",
    "We have already encountered one root-finding method in mathematics; for a quadratic function with the form $f(x) = ax^2 + bx + c$, the ''quadratic formula,'' \n",
    "\n",
    "$$\n",
    "x_r=\\frac{-b\\pm\\sqrt{b^2-4ac}}{2a},\n",
    "$$\n",
    "\n",
    "evaluates the root(s) of the function, $x_r$, exactly (noting that there may be zero, one or two real solutions of this equation). The quadratic formula is a rare example of root-finding with a simple solution; most other types of function require novel ways to identify roots. As computational power has significantly grown in recent years, so too have iterative ways to identify roots which take advantage of computational resources and procedures.\n",
    "\n",
    "We will here discuss several iterative techinques to identify roots of equations. When testing some of these tools, we may use quadratic functions, in order to compare exact and approximate solutions.\n",
    "\n"
   ]
  },
  {
   "cell_type": "markdown",
   "metadata": {
    "id": "5BKUkz0jqTRZ"
   },
   "source": [
    "#### Setting up Libraries\n",
    "\n",
    "As always, we'll make use of some clever Python tools for plotting and maths, so our first step is to load in the libraries that store these tools:"
   ]
  },
  {
   "cell_type": "code",
   "execution_count": 1,
   "metadata": {
    "executionInfo": {
     "elapsed": 509,
     "status": "ok",
     "timestamp": 1646997535586,
     "user": {
      "displayName": "James Threlfall",
      "photoUrl": "https://lh3.googleusercontent.com/a-/AOh14Gh5AMmwJn-QgnyAtyVfjDwEfQL-5FfwAhQ1uZjJ=s64",
      "userId": "12893452708265254015"
     },
     "user_tz": 0
    },
    "id": "F6L7k675qTRa"
   },
   "outputs": [
    {
     "name": "stdout",
     "output_type": "stream",
     "text": [
      "Defaulting to user installation because normal site-packages is not writeable\n",
      "Requirement already satisfied: termcolor in /Users/jamesthrelfall/Library/Python/3.8/lib/python/site-packages (1.1.0)\n",
      "\u001b[33mWARNING: You are using pip version 21.3.1; however, version 22.0.4 is available.\n",
      "You should consider upgrading via the '/Library/Developer/CommandLineTools/usr/bin/python3 -m pip install --upgrade pip' command.\u001b[0m\n"
     ]
    }
   ],
   "source": [
    "## Libraries\n",
    "import numpy as np\n",
    "import math \n",
    "import sys #library to run system commands from within python scripts\n",
    "!{sys.executable} -m pip install termcolor #termcolor is not common, so check check and install if needs be\n",
    "from termcolor import colored"
   ]
  },
  {
   "cell_type": "markdown",
   "metadata": {
    "id": "RaEolGImUbMw"
   },
   "source": [
    "\n",
    "## Simple Iteration \n",
    "In the lectures, we have encountered our first approach to tackling problems in the form $f(x)=0$: **simple iteration**.\n",
    "\n",
    "Briefly, simple iteration requires us to rewrite the function in a form with a single dependent variable $x$ on the left hand side, i.e.\n",
    "\\begin{equation}\n",
    "x=F(x).\n",
    "\\end{equation}\n",
    "There may also be several different forms for $F(x)$ per equation.\n",
    "\n"
   ]
  },
  {
   "cell_type": "markdown",
   "metadata": {
    "id": "2V_GNkCaB0rz"
   },
   "source": [
    "In the lectures, we examined this technique using the quadratic equation \\begin{equation}x^2-3x+1=0,\\end{equation}\n",
    "which has two possible forms of $F(x)$:\n",
    "\n",
    "\\begin{equation}F_1(x)=\\frac{1}{3}\\left(x^2+1\\right)~~~~{\\rm{and}}~~~~ F_2(x)=3-\\frac{1}{x}.\\end{equation}\n",
    "\n",
    "Lets start by defining some functions to return values according to these equations for a given $x$-value:"
   ]
  },
  {
   "cell_type": "code",
   "execution_count": 2,
   "metadata": {
    "executionInfo": {
     "elapsed": 5,
     "status": "ok",
     "timestamp": 1646997535587,
     "user": {
      "displayName": "James Threlfall",
      "photoUrl": "https://lh3.googleusercontent.com/a-/AOh14Gh5AMmwJn-QgnyAtyVfjDwEfQL-5FfwAhQ1uZjJ=s64",
      "userId": "12893452708265254015"
     },
     "user_tz": 0
    },
    "id": "WRa8Z2NZBvJH"
   },
   "outputs": [],
   "source": [
    "def F1(x):\n",
    "    result = (x * x + 1.0) / 3.0\n",
    "    return result\n",
    "def F2(x):\n",
    "    result = 3.0 - 1.0 / x\n",
    "    return result     "
   ]
  },
  {
   "cell_type": "markdown",
   "metadata": {
    "id": "o0l19ZZBObkj"
   },
   "source": [
    "We want to start at a particular value of $x$, calculate $F(x)$ which then becomes the next value of $x$ and then repeat the process.\n",
    "\n",
    "Lets try applying the first few steps, with an initial guess of $x=1$. Using the first function $F_1$, we see:"
   ]
  },
  {
   "cell_type": "code",
   "execution_count": 3,
   "metadata": {
    "colab": {
     "base_uri": "https://localhost:8080/"
    },
    "executionInfo": {
     "elapsed": 18,
     "status": "ok",
     "timestamp": 1646997535881,
     "user": {
      "displayName": "James Threlfall",
      "photoUrl": "https://lh3.googleusercontent.com/a-/AOh14Gh5AMmwJn-QgnyAtyVfjDwEfQL-5FfwAhQ1uZjJ=s64",
      "userId": "12893452708265254015"
     },
     "user_tz": 0
    },
    "id": "NHJVrRZ5S7HH",
    "outputId": "dd317d56-94e3-4022-f18b-0f78d0ec0ca6"
   },
   "outputs": [
    {
     "name": "stdout",
     "output_type": "stream",
     "text": [
      "1.0 0.6666666666666666 0.48148148148148145 0.41060813900320076 0.389533014605224\n"
     ]
    }
   ],
   "source": [
    "x0 = 1.0\n",
    "x1 = F1(x0)\n",
    "x2 = F1(x1)\n",
    "x3 = F1(x2)\n",
    "x4 = F1(x3)\n",
    "print(x0, x1, x2, x3, x4)"
   ]
  },
  {
   "cell_type": "markdown",
   "metadata": {
    "id": "RKqpeamzTjnt"
   },
   "source": [
    "As stated in the lectures, this appears to be converging, but its not clear how far we are from convergence. \n",
    "\n",
    "Lets try our second initial guess, $x=3$:"
   ]
  },
  {
   "cell_type": "code",
   "execution_count": 4,
   "metadata": {
    "colab": {
     "base_uri": "https://localhost:8080/"
    },
    "executionInfo": {
     "elapsed": 16,
     "status": "ok",
     "timestamp": 1646997535881,
     "user": {
      "displayName": "James Threlfall",
      "photoUrl": "https://lh3.googleusercontent.com/a-/AOh14Gh5AMmwJn-QgnyAtyVfjDwEfQL-5FfwAhQ1uZjJ=s64",
      "userId": "12893452708265254015"
     },
     "user_tz": 0
    },
    "id": "j3TRVxnTJaKu",
    "outputId": "eef07b04-7594-4fad-acc7-1fc32188bf08"
   },
   "outputs": [
    {
     "name": "stdout",
     "output_type": "stream",
     "text": [
      "3.0 3.3333333333333335 4.037037037037037 5.76588934613626 11.41515998396254\n"
     ]
    }
   ],
   "source": [
    "x0 = 3.0\n",
    "x1 = F1(x0)\n",
    "x2 = F1(x1)\n",
    "x3 = F1(x2)\n",
    "x4 = F1(x3)\n",
    "print(x0, x1, x2, x3, x4)"
   ]
  },
  {
   "cell_type": "markdown",
   "metadata": {
    "id": "CgzVgtd6T-_y"
   },
   "source": [
    "As per the lectures, this looks to be diverging. Moving on to the second function $F_2$:"
   ]
  },
  {
   "cell_type": "code",
   "execution_count": 5,
   "metadata": {
    "colab": {
     "base_uri": "https://localhost:8080/"
    },
    "executionInfo": {
     "elapsed": 14,
     "status": "ok",
     "timestamp": 1646997535881,
     "user": {
      "displayName": "James Threlfall",
      "photoUrl": "https://lh3.googleusercontent.com/a-/AOh14Gh5AMmwJn-QgnyAtyVfjDwEfQL-5FfwAhQ1uZjJ=s64",
      "userId": "12893452708265254015"
     },
     "user_tz": 0
    },
    "id": "exK-yGMbS_Or",
    "outputId": "aa4796d4-9f58-400e-81f7-03ffd1a17056"
   },
   "outputs": [
    {
     "name": "stdout",
     "output_type": "stream",
     "text": [
      "1.0 2.0 2.5 2.6 2.6153846153846154\n"
     ]
    }
   ],
   "source": [
    "x0 = 1.0\n",
    "x1 = F2(x0)\n",
    "x2 = F2(x1)\n",
    "x3 = F2(x2)\n",
    "x4 = F2(x3)\n",
    "print(x0, x1, x2, x3, x4)"
   ]
  },
  {
   "cell_type": "code",
   "execution_count": 6,
   "metadata": {
    "colab": {
     "base_uri": "https://localhost:8080/"
    },
    "executionInfo": {
     "elapsed": 13,
     "status": "ok",
     "timestamp": 1646997535882,
     "user": {
      "displayName": "James Threlfall",
      "photoUrl": "https://lh3.googleusercontent.com/a-/AOh14Gh5AMmwJn-QgnyAtyVfjDwEfQL-5FfwAhQ1uZjJ=s64",
      "userId": "12893452708265254015"
     },
     "user_tz": 0
    },
    "id": "dpZ0RQRHShTg",
    "outputId": "2fc96cf5-ffd2-44cb-87f7-79b658bf057e"
   },
   "outputs": [
    {
     "name": "stdout",
     "output_type": "stream",
     "text": [
      "3.0 2.6666666666666665 2.625 2.619047619047619 2.618181818181818\n"
     ]
    }
   ],
   "source": [
    "x0 = 3.0\n",
    "x1 = F2(x0)\n",
    "x2 = F2(x1)\n",
    "x3 = F2(x2)\n",
    "x4 = F2(x3)\n",
    "print(x0, x1, x2, x3, x4)"
   ]
  },
  {
   "cell_type": "markdown",
   "metadata": {
    "id": "ejRC9VM_UIYW"
   },
   "source": [
    "Once again we seem to see $F_2$ converging upon a solution when $x_0=1$ but also converging upon the same solution when $x_0=3$."
   ]
  },
  {
   "cell_type": "markdown",
   "metadata": {
    "id": "L0Q-EC9qUfYg"
   },
   "source": [
    "\n",
    "\n",
    "---\n",
    "\n",
    "\n",
    "We'll now explore the test for **convergence**. Remember again from the lectures that a condition for convergence using simple iteration is:\n",
    "\\begin{equation}\\left|F'(x)\\right|\\lt 1, \\end{equation}\n",
    "so we need to test this criteria as we iterate to make sure that we're not carrying out the calculation unecessarily.\n",
    "\n",
    "In order to test this, lets create two new functions containing the derivative of the functions $F_1'$ and $F_2'$:"
   ]
  },
  {
   "cell_type": "code",
   "execution_count": 7,
   "metadata": {
    "executionInfo": {
     "elapsed": 12,
     "status": "ok",
     "timestamp": 1646997535882,
     "user": {
      "displayName": "James Threlfall",
      "photoUrl": "https://lh3.googleusercontent.com/a-/AOh14Gh5AMmwJn-QgnyAtyVfjDwEfQL-5FfwAhQ1uZjJ=s64",
      "userId": "12893452708265254015"
     },
     "user_tz": 0
    },
    "id": "N_PrELVVVDG7"
   },
   "outputs": [],
   "source": [
    "def dF1dx(x):\n",
    "    result = 2.0 / 3.0 * x\n",
    "    return result\n",
    "def dF2dx(x):\n",
    "    result = 1.0 / x / x\n",
    "    return result   "
   ]
  },
  {
   "cell_type": "markdown",
   "metadata": {
    "id": "Vp0YtAPvVKyv"
   },
   "source": [
    "We have evaluated these derivatives using our mathematical knowledge, but could in principle evaluate these either symbolically (in Python using *sympy*) or indeed approximately (using finite difference approaches for example). We can perform a quick check by evaluating $F'(x_0)$ for both functions:"
   ]
  },
  {
   "cell_type": "code",
   "execution_count": 8,
   "metadata": {
    "colab": {
     "base_uri": "https://localhost:8080/"
    },
    "executionInfo": {
     "elapsed": 11,
     "status": "ok",
     "timestamp": 1646997535882,
     "user": {
      "displayName": "James Threlfall",
      "photoUrl": "https://lh3.googleusercontent.com/a-/AOh14Gh5AMmwJn-QgnyAtyVfjDwEfQL-5FfwAhQ1uZjJ=s64",
      "userId": "12893452708265254015"
     },
     "user_tz": 0
    },
    "id": "gbRUBqzAVKVz",
    "outputId": "7d05926a-6d82-4da1-cbf5-284f7cfa8d87"
   },
   "outputs": [
    {
     "name": "stdout",
     "output_type": "stream",
     "text": [
      "\u001b[32m0.6666666666666666\u001b[0m\n",
      "\u001b[31m2.0\u001b[0m\n",
      "\u001b[31m1.0\u001b[0m\n",
      "\u001b[32m0.1111111111111111\u001b[0m\n"
     ]
    }
   ],
   "source": [
    "temp=[abs(dF1dx(1.0)), abs(dF1dx(3.0)), abs(dF2dx(1.0)), abs(dF2dx(3.0))]\n",
    "for i in temp:\n",
    "  mycol='red'\n",
    "  if float(i) < 1:  #if condition met, switch color to green\n",
    "    mycol='green' \n",
    "  print(colored(i,mycol))"
   ]
  },
  {
   "cell_type": "markdown",
   "metadata": {
    "id": "saALZBN4Vqck"
   },
   "source": [
    "We can see from this that we would only expect convergence using $F_1$ when $x=1$ and $F_2$ when $x=3$.\n",
    "\n",
    "## Iteration Using Loops\n",
    "\n",
    "So far, we've effectively only used Python as a simple calculator. Python (and other languages) are far more powerful and can potentially check the derivative for convergence/divergence each time an iteration occurs. We can also build in a test of the difference between the latest iteration and previous values in order to not perform the calculation too many times. One could, in principle, combine all of these steps together in the following way:"
   ]
  },
  {
   "cell_type": "code",
   "execution_count": 9,
   "metadata": {
    "colab": {
     "base_uri": "https://localhost:8080/"
    },
    "executionInfo": {
     "elapsed": 11,
     "status": "ok",
     "timestamp": 1646997535883,
     "user": {
      "displayName": "James Threlfall",
      "photoUrl": "https://lh3.googleusercontent.com/a-/AOh14Gh5AMmwJn-QgnyAtyVfjDwEfQL-5FfwAhQ1uZjJ=s64",
      "userId": "12893452708265254015"
     },
     "user_tz": 0
    },
    "id": "4o8YoYjfFUH_",
    "outputId": "5463dc5c-4f31-48c2-f37e-18ed6f5371f0"
   },
   "outputs": [
    {
     "name": "stdout",
     "output_type": "stream",
     "text": [
      "converged\n",
      "no. of steps: 11      final x: 0.38196810192991765\n"
     ]
    }
   ],
   "source": [
    "x = []\n",
    "x.append(1.0) #initial function guess\n",
    "tol = 1e-5    #tolerance\n",
    "i = 0\n",
    "while ((len(x) < 50)):  #performing a maximum of 50 iterations (for safety)\n",
    "    if ((abs(dF1dx(x[i])) > 1)):  #if divergence expected\n",
    "      print('divergent')\n",
    "      break\n",
    "    x.append(F1(x[i]))  #using F1\n",
    "    i += 1              #increment i\n",
    "    if (abs(x[i] - x[i-1]) < tol):  #is the new solution different?\n",
    "      print('converged')\n",
    "      break\n",
    "\n",
    "print(\"no. of steps:\", len(x), \"     final x:\", x[-1])"
   ]
  },
  {
   "cell_type": "markdown",
   "metadata": {
    "id": "cNdh4lhugazz"
   },
   "source": [
    "In the above code, we create a list of $x$ values, and place our initial guess for $x$ at the start. The code generates new values in the list, provided a tolerance between successive iterations differs by more than some user defined value (in order to not repeat steps without gaining any extra accuracy).\n",
    "\n",
    "We can see with this simple loop that it takes 11 steps from $x_0$=1 to determine the root of the F1 equation to 5dp accuracy. If we shift the initial guess for $x$ to be 3, and repeat the calculation, the \"if\" statement within the loop detects that the solution is divergent before we carry out any more iterations:"
   ]
  },
  {
   "cell_type": "code",
   "execution_count": 10,
   "metadata": {
    "colab": {
     "base_uri": "https://localhost:8080/"
    },
    "executionInfo": {
     "elapsed": 9,
     "status": "ok",
     "timestamp": 1646997535883,
     "user": {
      "displayName": "James Threlfall",
      "photoUrl": "https://lh3.googleusercontent.com/a-/AOh14Gh5AMmwJn-QgnyAtyVfjDwEfQL-5FfwAhQ1uZjJ=s64",
      "userId": "12893452708265254015"
     },
     "user_tz": 0
    },
    "id": "U3AfHucZhZzJ",
    "outputId": "7b2431d5-8ac4-4523-dfc3-588bb57f98fb"
   },
   "outputs": [
    {
     "name": "stdout",
     "output_type": "stream",
     "text": [
      "divergent\n",
      "no. of steps: 1      final x: 3.0\n"
     ]
    }
   ],
   "source": [
    "x = []\n",
    "x.append(3.0)\n",
    "i = 0\n",
    "while ((len(x) < 50)):  #performing a maximum of 50 iterations for safety\n",
    "    if ((abs(dF1dx(x[i])) > 1)):  #if divergence expected\n",
    "      print('divergent')\n",
    "      break\n",
    "    x.append(F1(x[i]))  #using F1\n",
    "    i += 1\n",
    "    if (abs(x[i] - x[i-1]) < tol):  #is the new solution different?\n",
    "      print('converged')\n",
    "      break\n",
    "\n",
    "print(\"no. of steps:\", len(x), \"     final x:\", x[-1])"
   ]
  },
  {
   "cell_type": "markdown",
   "metadata": {
    "id": "Adu2TcV2hzDI"
   },
   "source": [
    "Switching from $F_1$ to $F_2$ in the loop reflects the results we saw earlier (and in the lectures):"
   ]
  },
  {
   "cell_type": "code",
   "execution_count": 11,
   "metadata": {
    "colab": {
     "base_uri": "https://localhost:8080/"
    },
    "executionInfo": {
     "elapsed": 7,
     "status": "ok",
     "timestamp": 1646997535883,
     "user": {
      "displayName": "James Threlfall",
      "photoUrl": "https://lh3.googleusercontent.com/a-/AOh14Gh5AMmwJn-QgnyAtyVfjDwEfQL-5FfwAhQ1uZjJ=s64",
      "userId": "12893452708265254015"
     },
     "user_tz": 0
    },
    "id": "m1a5Pr4-hyi1",
    "outputId": "7be06e30-9f9e-4968-df97-8588aa6d82a4"
   },
   "outputs": [
    {
     "name": "stdout",
     "output_type": "stream",
     "text": [
      "converged\n",
      "no. of steps: 9      final x: 2.6180327868852458\n"
     ]
    }
   ],
   "source": [
    "x = []\n",
    "x.append(1.0)\n",
    "i = 0\n",
    "while ((len(x) < 50)):  #performing a maximum of 50 iterations for safety\n",
    "    if ((abs(dF2dx(x[i])) > 1)):  #if divergence expected\n",
    "      print('divergent')\n",
    "      break\n",
    "    x.append(F2(x[i]))  #using F2\n",
    "    i += 1\n",
    "    if (abs(x[i] - x[i-1]) < tol):  #is the new solution different?\n",
    "      print('converged')\n",
    "      break\n",
    "\n",
    "print(\"no. of steps:\", len(x), \"     final x:\", x[-1])"
   ]
  },
  {
   "cell_type": "markdown",
   "metadata": {},
   "source": [
    "Try varying the tolerance and seeing how many iterations the code takes to achieve convergence."
   ]
  },
  {
   "cell_type": "markdown",
   "metadata": {
    "id": "pzykh1q-qTRf"
   },
   "source": [
    "## Newton-Raphson Iteration\n",
    "\n",
    "For a function $f(x)$ which is smooth and continuous, and $x_r$ is an unknown root of $f(x)$. We could make an initial guess $x_0$ for the value of $x_r$. Unless $x_0$ is a very lucky guess, $f(x_0)$ will not be a root. If we don't find the root, we want our next guess, $x_1$, to be an improvement on $x_0$ (i.e., closer to $x_r$ than $x_0$). If we assume that $x_0$ is \"close enough\" to $x_r$, then we can improve upon it by taking the linear approximation of $f(x)$ around $x_0$, which is a line, and finding the intersection of this line with the x-axis. Written out, the linear approximation of $f(x)$ around $x_0$ is $f(x) \\approx f(x_0) + f^{\\prime}(x_0)(x-x_0)$. Using this approximation, we find $x_1$ such that $f(x_1) = 0$. Plugging these values into the linear approximation results in the equation\n",
    "\n",
    "$$\n",
    "0 = f(x_0) + f^{\\prime}(x_0)(x_1-x_0),\n",
    "$$\n",
    "which when solved for $x_1$ is\n",
    "$$\n",
    "x_1 = x_0 - \\frac{f(x_0)}{f^{\\prime}(x_0)}.\n",
    "$$\n",
    "\n",
    "An illustration of how this linear approximation improves an initial guess is shown in the following figure.\n",
    " \n",
    "\n",
    "<img src=\"https://pythonnumericalmethods.berkeley.edu/_images/19.04.01-Newton-step.png\" alt=\"Newton Step\" title=\"Illustration of Newton step for a smooth function, g(x).\" width=\"200\"/>\n",
    "\n",
    "Written generally, a **Newton step** computes an improved guess, $x_i$, using a previous guess $x_{i-1}$, and is given by the equation\n",
    "\n",
    "$$\n",
    "x_i = x_{i-1} - \\frac{g(x_{i-1})}{g^{\\prime}(x_{i-1})}.\n",
    "$$\n",
    "\n",
    "The **Newton-Raphson Method** of finding roots iterates Newton steps from $x_0$ until the error is less than the tolerance.\n"
   ]
  },
  {
   "cell_type": "markdown",
   "metadata": {
    "id": "Q-PU2BUWpjh_"
   },
   "source": [
    "Lets return to our earlier function \\begin{equation}x^2-3x+1=0.\\end{equation}\n",
    "\n",
    "Instead of the simple iterative approach, we can define a function for this expression, and one for its derivative.\n"
   ]
  },
  {
   "cell_type": "code",
   "execution_count": 12,
   "metadata": {
    "executionInfo": {
     "elapsed": 308,
     "status": "ok",
     "timestamp": 1646997536186,
     "user": {
      "displayName": "James Threlfall",
      "photoUrl": "https://lh3.googleusercontent.com/a-/AOh14Gh5AMmwJn-QgnyAtyVfjDwEfQL-5FfwAhQ1uZjJ=s64",
      "userId": "12893452708265254015"
     },
     "user_tz": 0
    },
    "id": "wqC8Zc6-p4eA"
   },
   "outputs": [],
   "source": [
    "def fnr(x):\n",
    "    result = x * x - 3 * x + 1\n",
    "    return result\n",
    "def dfnrdx(x):\n",
    "    result = 2 * x - 3 \n",
    "    return result  "
   ]
  },
  {
   "cell_type": "markdown",
   "metadata": {
    "id": "txwxO6uXqtfW"
   },
   "source": [
    "Now we can calculate each iteration of x based on the previous value and the calls to our two functions:"
   ]
  },
  {
   "cell_type": "code",
   "execution_count": 13,
   "metadata": {
    "colab": {
     "base_uri": "https://localhost:8080/"
    },
    "executionInfo": {
     "elapsed": 10,
     "status": "ok",
     "timestamp": 1646997536187,
     "user": {
      "displayName": "James Threlfall",
      "photoUrl": "https://lh3.googleusercontent.com/a-/AOh14Gh5AMmwJn-QgnyAtyVfjDwEfQL-5FfwAhQ1uZjJ=s64",
      "userId": "12893452708265254015"
     },
     "user_tz": 0
    },
    "id": "OYX2NEUfqTRg",
    "outputId": "cb149a85-0aac-45f2-dcb3-8c19a557f796"
   },
   "outputs": [
    {
     "name": "stdout",
     "output_type": "stream",
     "text": [
      "[1.0, 0.0, 0.3333333333333333, 0.38095238095238093, 0.3819655521783181, 0.3819660112500109]\n",
      "[3.0, 2.6666666666666665, 2.619047619047619, 2.618034447821682, 2.618033988749989, 2.618033988749895]\n"
     ]
    }
   ],
   "source": [
    "x = []\n",
    "x.append(1.0)\n",
    "x.append(x[0] - fnr(x[0]) / dfnrdx(x[0]))\n",
    "x.append(x[1] - fnr(x[1]) / dfnrdx(x[1]))\n",
    "x.append(x[2] - fnr(x[2]) / dfnrdx(x[2]))\n",
    "x.append(x[3] - fnr(x[3]) / dfnrdx(x[3]))\n",
    "x.append(x[4] - fnr(x[4]) / dfnrdx(x[4]))\n",
    "print(x)\n",
    "x = []\n",
    "x.append(3.0)\n",
    "x.append(x[0] - fnr(x[0]) / dfnrdx(x[0]))\n",
    "x.append(x[1] - fnr(x[1]) / dfnrdx(x[1]))\n",
    "x.append(x[2] - fnr(x[2]) / dfnrdx(x[2]))\n",
    "x.append(x[3] - fnr(x[3]) / dfnrdx(x[3]))\n",
    "x.append(x[4] - fnr(x[4]) / dfnrdx(x[4]))\n",
    "print(x)"
   ]
  },
  {
   "cell_type": "markdown",
   "metadata": {
    "id": "_AoUfNL_q5p5"
   },
   "source": [
    "We can see that this method rapidly converges upon the two roots identified earlier, without needing to worry about divergent solutions.\n",
    "\n",
    "If we wanted to be crafty, we could loop this calculation in the same way we did for our simple iteration approach, to guarantee convergence to within a preset tolerance:"
   ]
  },
  {
   "cell_type": "code",
   "execution_count": 14,
   "metadata": {
    "colab": {
     "base_uri": "https://localhost:8080/"
    },
    "executionInfo": {
     "elapsed": 9,
     "status": "ok",
     "timestamp": 1646997536187,
     "user": {
      "displayName": "James Threlfall",
      "photoUrl": "https://lh3.googleusercontent.com/a-/AOh14Gh5AMmwJn-QgnyAtyVfjDwEfQL-5FfwAhQ1uZjJ=s64",
      "userId": "12893452708265254015"
     },
     "user_tz": 0
    },
    "id": "1cadFrzPq5Gk",
    "outputId": "810b0b1a-8ef8-4e2e-ff08-60dc1b38c6d7"
   },
   "outputs": [
    {
     "name": "stdout",
     "output_type": "stream",
     "text": [
      "converged\n",
      "ROOT1: no. of steps: 6      final x: 0.3819660112500109\n",
      "converged\n",
      "ROOT2: no. of steps: 5      final x: 2.618033988749989\n"
     ]
    }
   ],
   "source": [
    "x = []\n",
    "x.append(1.0)\n",
    "tol = 1e-5\n",
    "i = 0\n",
    "while ((len(x) < 50)):  #performing a maximum of 50 iterations for safety\n",
    "    x.append(x[i] - fnr(x[i]) / dfnrdx(x[i]))  #using F2\n",
    "    i += 1\n",
    "    if (abs(x[i] - x[i-1]) < tol):  #is the new solution different?\n",
    "      print('converged')\n",
    "      break\n",
    "print(\"ROOT1: no. of steps:\", len(x), \"     final x:\", x[-1])\n",
    "x = []\n",
    "x.append(3.0)\n",
    "i = 0\n",
    "while ((len(x) < 50)):  #performing a maximum of 50 iterations for safety\n",
    "    x.append(x[i] - fnr(x[i]) / dfnrdx(x[i]))  #using F2\n",
    "    i += 1\n",
    "    if (abs(x[i] - x[i-1]) < tol):  #is the new solution different?\n",
    "      print('converged')\n",
    "      break\n",
    "print(\"ROOT2: no. of steps:\", len(x), \"     final x:\", x[-1])"
   ]
  },
  {
   "cell_type": "markdown",
   "metadata": {
    "id": "UHtdJQQyq446"
   },
   "source": [
    "Note that the number of steps taken by Newton-Raphson is far less than our earlier scheme. As noted in lectures, if there is a root, this scheme converges to the desired degree of accuracy relatively quickly, but still depends (to an extent) on the initial guesses for where the roots are."
   ]
  },
  {
   "cell_type": "markdown",
   "metadata": {
    "id": "db6M_cpEr2zh"
   },
   "source": [
    "## Python for mathematics/science\n",
    "Python is a really clever language, and lots of equally clever people have extended it, adding libraries to carry out an incredible number of difficult and complicated tasks. One of those libraries, *scipy*, incorporates a root solver, *fsolve*. You can find more information about the documentation [here](https://docs.scipy.org/doc/scipy/reference/generated/scipy.optimize.fsolve.html).\n",
    "Let's call the library:"
   ]
  },
  {
   "cell_type": "code",
   "execution_count": 15,
   "metadata": {
    "executionInfo": {
     "elapsed": 6,
     "status": "ok",
     "timestamp": 1646997536187,
     "user": {
      "displayName": "James Threlfall",
      "photoUrl": "https://lh3.googleusercontent.com/a-/AOh14Gh5AMmwJn-QgnyAtyVfjDwEfQL-5FfwAhQ1uZjJ=s64",
      "userId": "12893452708265254015"
     },
     "user_tz": 0
    },
    "id": "FLziNbtNsjGx"
   },
   "outputs": [],
   "source": [
    "from scipy.optimize import fsolve"
   ]
  },
  {
   "cell_type": "markdown",
   "metadata": {
    "id": "we9Cp8w6soFA"
   },
   "source": [
    "Now let's apply it to our problem from earlier. The *fsolve* function takes in several arguments, but for our purposes, we can simply tell it the name of the function to evaluate from earlier, and a list containing our two initial guesses and see what it comes up with:"
   ]
  },
  {
   "cell_type": "code",
   "execution_count": 16,
   "metadata": {
    "colab": {
     "base_uri": "https://localhost:8080/"
    },
    "executionInfo": {
     "elapsed": 7,
     "status": "ok",
     "timestamp": 1646997536188,
     "user": {
      "displayName": "James Threlfall",
      "photoUrl": "https://lh3.googleusercontent.com/a-/AOh14Gh5AMmwJn-QgnyAtyVfjDwEfQL-5FfwAhQ1uZjJ=s64",
      "userId": "12893452708265254015"
     },
     "user_tz": 0
    },
    "id": "yHeQVYJPst5H",
    "outputId": "518e6966-8e9a-4590-8ab7-5ff8880f51ab"
   },
   "outputs": [
    {
     "data": {
      "text/plain": [
       "array([0.38196601, 2.61803399])"
      ]
     },
     "execution_count": 16,
     "metadata": {},
     "output_type": "execute_result"
    }
   ],
   "source": [
    "fsolve(fnr, [1., 3.])"
   ]
  },
  {
   "cell_type": "markdown",
   "metadata": {
    "id": "kNPepTWytJkA"
   },
   "source": [
    "Once more we've quickly identified the roots of the equation $x^2-3x+1=0$. There are other root finding methods that we don't have time to cover in this course, but all have positive and negative attributes depending on their application."
   ]
  },
  {
   "cell_type": "markdown",
   "metadata": {
    "id": "AdDYZvA3pNcK"
   },
   "source": [
    "## Other Examples:\n",
    "\n",
    "**TRY IT!** $\\sqrt{2}$ is the root of the function $f(x) = x^2 - 2$. Using $x_0 = 1.4$ as a starting point, use the information you've seen in this worksheet to estimate $\\sqrt{2}$. Can you recycle some of the earlier algorithmns to do the hard work for you?\n",
    "\n",
    "Compare this approximation with the value computed by Python's sqrt function.\n",
    "\n",
    "$$\n",
    "x = 1.4 - \\frac{1.4^2 - 2}{2(1.4)} = 1.4142857142857144\n",
    "$$"
   ]
  },
  {
   "cell_type": "code",
   "execution_count": null,
   "metadata": {
    "executionInfo": {
     "elapsed": 4,
     "status": "ok",
     "timestamp": 1646997536188,
     "user": {
      "displayName": "James Threlfall",
      "photoUrl": "https://lh3.googleusercontent.com/a-/AOh14Gh5AMmwJn-QgnyAtyVfjDwEfQL-5FfwAhQ1uZjJ=s64",
      "userId": "12893452708265254015"
     },
     "user_tz": 0
    },
    "id": "jYHI-770o9kx"
   },
   "outputs": [],
   "source": []
  }
 ],
 "metadata": {
  "colab": {
   "collapsed_sections": [],
   "name": "MAT301_Iterative_Techniques.ipynb",
   "provenance": [
    {
     "file_id": "1Nc66t1YMHbD0IfA3aZxHRKKxED5hmm1y",
     "timestamp": 1646834193385
    },
    {
     "file_id": "https://github.com/john-s-butler-dit/Numerical-Analysis-Python/blob/master/Chapter%2003%20-%20Runge%20Kutta/301_2nd%20Order%20Runge%20Kutta%20Population%20Equations.ipynb",
     "timestamp": 1646748928131
    }
   ]
  },
  "kernelspec": {
   "display_name": "Python 3 (ipykernel)",
   "language": "python",
   "name": "python3"
  },
  "language_info": {
   "codemirror_mode": {
    "name": "ipython",
    "version": 3
   },
   "file_extension": ".py",
   "mimetype": "text/x-python",
   "name": "python",
   "nbconvert_exporter": "python",
   "pygments_lexer": "ipython3",
   "version": "3.8.9"
  }
 },
 "nbformat": 4,
 "nbformat_minor": 1
}
