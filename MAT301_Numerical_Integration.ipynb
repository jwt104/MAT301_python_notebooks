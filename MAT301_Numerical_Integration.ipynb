{
 "cells": [
  {
   "cell_type": "markdown",
   "metadata": {
    "id": "nlr1Ru5KqTRX"
   },
   "source": [
    "## Numerical Integration with Python\n",
    "Notebook to implement Euler, Midpoint and Euler Trapezium methods to solve differential equations. Designed to support Abertay University undergrad course MAT301 (JT, 2022).\n",
    "\n",
    "\n",
    "---\n",
    "\n",
    "\n",
    "**Remember:** The aim of MAT301 is for you to understand and implement the mathematics of each iterative solution you have been shown. The MAT301 exam will test your ability to demonstrate the mathematical steps, on pen and paper. \n",
    "\n",
    "These codes are for additional context **once you are able to carry out the mathematical steps**: our ultimate goal is that you are able to create numerical schemes to solve problems for yourselves in future. These codes should **NOT** be used in the exam or replace your pen and paper approach to tutorial problems. However, I do encourage you to use these codes to verify your tutorial solutions after you have already solved the problems mathematically.\n",
    "\n",
    "\n",
    "\n",
    "---\n",
    "\n",
    "Some images and more formal description of the mathematics based upon [Python Programming And Numerical Methods: A Guide For Engineers And Scientists](https://pythonnumericalmethods.berkeley.edu/notebooks/Index.html) which is a really useful resource for many different applications of Python to numerical methods. \n",
    "\n",
    "\n",
    "\n"
   ]
  },
  {
   "cell_type": "markdown",
   "metadata": {
    "id": "Nopr9bZQUGCZ"
   },
   "source": [
    "# Motivation\n",
    "Lots of laws of motion (for example Newton's Laws) require differentiation or integration in order to extract different information. Integrating a displacement in time yields a velocity. The ability to integrate functions between two points is extremely useful in video games programming.\n",
    "\n",
    "Given a function $f(x)$, we want to approximate the integral of $f(x)$ over the total **interval**, $[a,b]$. The following figure illustrates this area. To accomplish this goal, we assume that the interval has been discretized into a numeral grid, $x$, consisting of $n+1$ points with spacing, $h = \\frac{b - a}{n}$. Here, we denote each point in $x$ by $x_i$, where $x_0 = a$ and $x_n = b$. Note: There are $n+1$ grid points because the count starts at $x_0$. We also assume we have a function, $f(x)$, that can be computed for any of the grid points, or that we have been given the function implicitly as $f(x_i)$. The interval $[x_i, x_{i+1}]$ is referred to as a **subinterval**.\n",
    "\n",
    "<img src=\"https://pythonnumericalmethods.berkeley.edu/_images/21.01.1-Illustration_integral.png\" alt=\"Illustration integral\" title=\"Illustration of the integral. The integral from a to b of the function f is the area below the curve (shaded in grey).\" width=\"200\"/>\n",
    "\n",
    "Several methods exist to approximate the area under the function or $\\int_a^b f(x) dx$. Each method approximates the area under $f(x)$ for each subinterval by a shape for which it is easy to compute the exact area, and then sums the area contributions of every subinterval. In MAT301 we learned about Simpson's Rule and Trapezium Rule, which we will detail below.\n"
   ]
  },
  {
   "cell_type": "markdown",
   "metadata": {
    "id": "5BKUkz0jqTRZ"
   },
   "source": [
    "#### Setting up Libraries\n",
    "\n",
    "As always, we'll make use of some clever Python tools for plotting and maths, so our first step is to load in the libraries that store these tools:"
   ]
  },
  {
   "cell_type": "code",
   "execution_count": null,
   "metadata": {
    "id": "F6L7k675qTRa"
   },
   "outputs": [],
   "source": [
    "## Libraries\n",
    "import numpy as np\n",
    "import math \n",
    "%matplotlib inline\n",
    "!{sys.executable} -m pip install termcolor\n",
    "from termcolor import colored"
   ]
  },
  {
   "cell_type": "markdown",
   "metadata": {
    "id": "RaEolGImUbMw"
   },
   "source": [
    "\n",
    "## 1. Trapezium Rule\n",
    "The **Trapezium Rule** fits a trapezium into each subinterval and sums the areas of each trapezium to approximate the total integral. This approximation for the integral to an arbitrary function is shown in the following figure. For each subinterval, the Trapezium Rule computes the area of a trapezium with corners at $(x_i, 0), (x_{i+1}, 0), (x_i, f(x_i))$, and $(x_{i+1}, f(x_{i+1}))$, which is $h\\frac{f(x_i) + f(x_{i+1})}{2}$. Thus, the Trapezium Rule approximates integrals according to the expression\n",
    "\n",
    "$$\\int_a^b f(x) dx \\approx \\sum_{i=0}^{n-1} h\\frac{f(x_i) + f(x_{i+1})}{2}.$$\n",
    "\n",
    "<img src=\"https://pythonnumericalmethods.berkeley.edu/_images/21.03.1-Trapezoid_integral.png\" alt=\"Trapezoid integral\" title=\"Illustration of the trapezoid integral procedure. The area below the curve is approximated by a summation of trapezoids that approximate the function.\" width=\"200\"/>\n",
    "\n",
    "In the lectures you should have noted that the Trapezium Rule \"double-counts\" most of the terms in the series. To illustrate this fact, consider the expansion of the Trapezium Rule:\n",
    "\n",
    "\\begin{eqnarray*}\\sum_{i=0}^{n-1} h\\left(\\frac{f(x_i) + f(x_{i+1})}{2}\\right) &=& \\frac{h}{2}\\left\\{\\left( f(x_0) + f(x_1)\\right) + \\left(f(x_1) + f(x_2)\\right) + \\right. \\\\\n",
    "&&\\left. \\left(f(x_2) + f(x_3) \\right) + \\cdots + \\left(f(x_{n-1}) + f(x_n)\\right)\\right\\}.\\end{eqnarray*}\n",
    "\n",
    "This results in lots of calls to $f(x)$ than is strictly necessary; we can be more computationally efficient using the following expression:\n",
    "\n",
    "$$\\int_a^b f(x) dx \\approx \\frac{h}{2} \\left(f(x_0) + 2 \\left(\\sum_{i=1}^{n-1} f(x_i)\\right) + f(x_n)\\right).$$\n"
   ]
  },
  {
   "cell_type": "markdown",
   "metadata": {
    "id": "2V_GNkCaB0rz"
   },
   "source": [
    "In the lectures, we examined the Trapezium rule in Example 8.1 using the integral equation \\begin{equation}\\int_0^1{\\frac{\\rm{d}x}{1+x^2}},\\end{equation} where we were asked to use four strips and work to 5 decimal places.\n",
    "\n",
    "To evaluate the problem, we broke up the range of integration into strips, evaluated the function at each of the edges of each strip, then applied the formula above to determine the total area under the curve. We'll do the same thing here numerically.\n",
    "\n",
    "First, we'll define a Python function which returns the value of the function to be integrated at any given point in $x$: "
   ]
  },
  {
   "cell_type": "code",
   "execution_count": null,
   "metadata": {
    "id": "WRa8Z2NZBvJH"
   },
   "outputs": [],
   "source": [
    "def f1(x):\n",
    "    result=1.0 / ( 1.0 + x * x )\n",
    "    return result"
   ]
  },
  {
   "cell_type": "markdown",
   "metadata": {
    "id": "o0l19ZZBObkj"
   },
   "source": [
    "\n",
    "Next, we'll define some useful parameters, like the upper and lower limit of integration and use these to determine the step size $h$ using the formula we learned in the lectures:"
   ]
  },
  {
   "cell_type": "code",
   "execution_count": null,
   "metadata": {
    "colab": {
     "base_uri": "https://localhost:8080/"
    },
    "executionInfo": {
     "elapsed": 8,
     "status": "ok",
     "timestamp": 1646997012228,
     "user": {
      "displayName": "James Threlfall",
      "photoUrl": "https://lh3.googleusercontent.com/a-/AOh14Gh5AMmwJn-QgnyAtyVfjDwEfQL-5FfwAhQ1uZjJ=s64",
      "userId": "12893452708265254015"
     },
     "user_tz": 0
    },
    "id": "NHJVrRZ5S7HH",
    "outputId": "cb1ec35c-e3f4-457c-c97b-3d060c5b7d06"
   },
   "outputs": [
    {
     "name": "stdout",
     "output_type": "stream",
     "text": [
      "0.25\n"
     ]
    }
   ],
   "source": [
    "a = 0.0\n",
    "b = 1.0\n",
    "N = 4\n",
    "h = (b - a) / float(N)\n",
    "print(h)"
   ]
  },
  {
   "cell_type": "markdown",
   "metadata": {
    "id": "RKqpeamzTjnt"
   },
   "source": [
    "To evaluate the integral, we need to evaluate the function at each step along the interval between $a$ and $b$. We therefore need to calculate the values of $x$ to pipe into our function. \n",
    "\n",
    "I will use a package function called *np.arange*, but this function returns all of the steps **except** the final step, hence when I call the function, I ask for values in the range from $a$ to $(b+h)$ so that the function returns values between $a$ and $b$ and omits a value I didn't want anyway! "
   ]
  },
  {
   "cell_type": "code",
   "execution_count": null,
   "metadata": {
    "colab": {
     "base_uri": "https://localhost:8080/"
    },
    "executionInfo": {
     "elapsed": 322,
     "status": "ok",
     "timestamp": 1646997012544,
     "user": {
      "displayName": "James Threlfall",
      "photoUrl": "https://lh3.googleusercontent.com/a-/AOh14Gh5AMmwJn-QgnyAtyVfjDwEfQL-5FfwAhQ1uZjJ=s64",
      "userId": "12893452708265254015"
     },
     "user_tz": 0
    },
    "id": "j3TRVxnTJaKu",
    "outputId": "e2bf316c-6556-47de-b146-ab5e03689374"
   },
   "outputs": [
    {
     "name": "stdout",
     "output_type": "stream",
     "text": [
      "[0.   0.25 0.5  0.75 1.  ]\n"
     ]
    }
   ],
   "source": [
    "x=np.arange(a, b + h, h)\n",
    "print(x)"
   ]
  },
  {
   "cell_type": "markdown",
   "metadata": {
    "id": "CgzVgtd6T-_y"
   },
   "source": [
    "Now that the $x$-range looks good, we can evaluate our function at each position, then carry out the sum according to the Trapezium Rule:"
   ]
  },
  {
   "cell_type": "code",
   "execution_count": null,
   "metadata": {
    "colab": {
     "base_uri": "https://localhost:8080/"
    },
    "executionInfo": {
     "elapsed": 14,
     "status": "ok",
     "timestamp": 1646997012545,
     "user": {
      "displayName": "James Threlfall",
      "photoUrl": "https://lh3.googleusercontent.com/a-/AOh14Gh5AMmwJn-QgnyAtyVfjDwEfQL-5FfwAhQ1uZjJ=s64",
      "userId": "12893452708265254015"
     },
     "user_tz": 0
    },
    "id": "FHvdUh_nkFj7",
    "outputId": "7f8a8518-3ba1-4c26-b160-b5b5b26851b5"
   },
   "outputs": [
    {
     "name": "stdout",
     "output_type": "stream",
     "text": [
      "0.7827941176470589\n"
     ]
    }
   ],
   "source": [
    "f = f1(x)\n",
    "total_trap_area = h * (0.5 * (f[0] + f[N]) + sum(f[1:N]))\n",
    "print(total_trap_area)"
   ]
  },
  {
   "cell_type": "markdown",
   "metadata": {
    "id": "P9kqjlTHlSGj"
   },
   "source": [
    "This was the value we calculated in the lectures by hand. Remember, we also identified that this integral had an exact solution: $\\pi/4$.\n",
    "\n",
    "The error in the trapezium rule for this many strips and for this function can therefore be calculated by subtracting the approximation from the true value (using the absolute value in case the approximation yields an over-estimate):"
   ]
  },
  {
   "cell_type": "code",
   "execution_count": null,
   "metadata": {
    "colab": {
     "base_uri": "https://localhost:8080/"
    },
    "executionInfo": {
     "elapsed": 14,
     "status": "ok",
     "timestamp": 1646997012545,
     "user": {
      "displayName": "James Threlfall",
      "photoUrl": "https://lh3.googleusercontent.com/a-/AOh14Gh5AMmwJn-QgnyAtyVfjDwEfQL-5FfwAhQ1uZjJ=s64",
      "userId": "12893452708265254015"
     },
     "user_tz": 0
    },
    "id": "jlTy2PTSkeO8",
    "outputId": "754bc61f-4bfc-40d0-918e-90a10614123b"
   },
   "outputs": [
    {
     "name": "stdout",
     "output_type": "stream",
     "text": [
      "0.0026040457503894165\n"
     ]
    }
   ],
   "source": [
    "err_trap = abs(0.25 * np.pi - total_trap_area)\n",
    "print(err_trap)"
   ]
  },
  {
   "cell_type": "markdown",
   "metadata": {
    "id": "ElLVmWm_nEc0"
   },
   "source": [
    "**Try for yourself:** Repeat the calculation above, but crank up the number of strips. What happens? \n",
    "\n",
    "(Careful not to ask for too many strips or the calculation speed may decrease!)"
   ]
  },
  {
   "cell_type": "markdown",
   "metadata": {
    "id": "LFidePGhnZ_X"
   },
   "source": [
    "## Simpson's Rule\n",
    "\n",
    "We also learned about a second approximate method to approximate finite integrals; Simpon's Rule.\n",
    "\n",
    "\n",
    "Consider *two* consecutive subintervals, $[x_{i-1}, x_i]$ and $[x_i, x_{i+1}]$. **Simpson's Rule** approximates the area under $f(x)$ over these two subintervals by fitting a quadratic polynomial through the points $(x_{i-1}, f(x_{i-1})), (x_i, f(x_i))$, and $(x_{i+1}, f(x_{i+1}))$, which is a unique polynomial, and then integrating the quadratic exactly. The following shows this integral approximation for an arbitrary function.\n",
    "\n",
    "<img src=\"https://pythonnumericalmethods.berkeley.edu/_images/21.04.1-Simpson_integral.png\" alt=\"Simpsons integral\" title=\"Illustration of the Simpson integral formula. Discretization points are grouped by three, and a parabola is fit between the three points. This can be done by a typical interpolation polynomial. The area under the curve is approximated by the area under the parabola.\" width=\"350\"/>\n",
    "\n",
    "Quadratic polynomial approximation takes place over two sub-intervals. With some algebra and manipulation, and combining (integrating) various polynomials together, we arrive at the the formula\n",
    "\n",
    "$$\\int_a^b f(x) dx \\approx \\frac{h}{3} \\left[f(x_0)+4 \\left(\\sum_{i=1, i\\  {\\text{odd}}}^{n-1}f(x_i)\\right)+2 \\left(\\sum_{i=2, i\\  {\\text{even}}}^{n-2}f(x_i)\\right)+f(x_n)\\right].$$\n",
    "\n",
    "**WARNING!** Remember that Simpson's Rule **must** be used for an even number of intervals and, therefore, an odd number of grid points."
   ]
  },
  {
   "cell_type": "markdown",
   "metadata": {
    "id": "aI5Uifj6o9h5"
   },
   "source": [
    "We can illustrate how Simpson's rule works, first by recycling the simple problem attacked earlier using the trapezium rule. We have already defined all the necessary components (limits, step size and values of $x$) that we will need. Let's first check that we're okay to apply Simpson's rule; to do this, we need to check if our total number of steps $n$ is even:"
   ]
  },
  {
   "cell_type": "code",
   "execution_count": null,
   "metadata": {
    "id": "hqsJix3xpqSJ"
   },
   "outputs": [],
   "source": [
    "if N % 2:\n",
    "    print('WARNING: N EVEN - Simpsons rule will FAIL') # Odd "
   ]
  },
  {
   "cell_type": "markdown",
   "metadata": {
    "id": "f5ewoO7jpq2s"
   },
   "source": [
    "No warning appeared so we're good to go. All we need to do is sum the elements that we've calculated according to the Simpson's rule formula. We can be a bit clever here, and let Python decide which numbers are odd and which are even (by picking every second element in cleverly chosen ranges which omit $f_0$ and $f_n$ (used elsewhere in the formula."
   ]
  },
  {
   "cell_type": "code",
   "execution_count": null,
   "metadata": {
    "colab": {
     "base_uri": "https://localhost:8080/"
    },
    "executionInfo": {
     "elapsed": 12,
     "status": "ok",
     "timestamp": 1646997012546,
     "user": {
      "displayName": "James Threlfall",
      "photoUrl": "https://lh3.googleusercontent.com/a-/AOh14Gh5AMmwJn-QgnyAtyVfjDwEfQL-5FfwAhQ1uZjJ=s64",
      "userId": "12893452708265254015"
     },
     "user_tz": 0
    },
    "id": "VekkoE2plTb6",
    "outputId": "e3620c31-bbf9-4dcb-c624-eba80314c956"
   },
   "outputs": [
    {
     "name": "stdout",
     "output_type": "stream",
     "text": [
      "0.785392156862745\n"
     ]
    }
   ],
   "source": [
    "total_simp_area = h / 3.0 * ( f[0] + f[N] + 4.0 * sum(f[1:N:2]) + 2.0 * sum(f[2:N-1:2] ))\n",
    "print(total_simp_area)"
   ]
  },
  {
   "cell_type": "markdown",
   "metadata": {
    "id": "g6mcOt0ltjUw"
   },
   "source": [
    "This number again looks very similar to the one derived by the Trapezium rule, but let's evaluate the error in it:"
   ]
  },
  {
   "cell_type": "code",
   "execution_count": null,
   "metadata": {
    "colab": {
     "base_uri": "https://localhost:8080/"
    },
    "executionInfo": {
     "elapsed": 10,
     "status": "ok",
     "timestamp": 1646997012546,
     "user": {
      "displayName": "James Threlfall",
      "photoUrl": "https://lh3.googleusercontent.com/a-/AOh14Gh5AMmwJn-QgnyAtyVfjDwEfQL-5FfwAhQ1uZjJ=s64",
      "userId": "12893452708265254015"
     },
     "user_tz": 0
    },
    "id": "lv9_vBvUrQbd",
    "outputId": "36d1f017-b4d9-4b96-ec09-c83efe19ebfb"
   },
   "outputs": [
    {
     "name": "stdout",
     "output_type": "stream",
     "text": [
      "error in Simpsons rule 6.006534703284494e-06\n",
      "error in Trapezium rule 0.0026040457503894165\n"
     ]
    }
   ],
   "source": [
    "err_simp = abs(0.25 * np.pi - total_simp_area)\n",
    "print('error in Simpsons rule', err_simp)\n",
    "print('error in Trapezium rule', err_trap)"
   ]
  },
  {
   "cell_type": "markdown",
   "metadata": {
    "id": "hLYsgzIYtrXP"
   },
   "source": [
    "The error in the Simpson's rule implementation for this function (and number of strips) is much smaller than that of the Trapezium rule by around 3 orders of magnitude."
   ]
  },
  {
   "cell_type": "markdown",
   "metadata": {
    "id": "r0g0BC8YuLrj"
   },
   "source": [
    "## Other methods\n",
    "\n",
    "Python has an entire library of useful tools for these types of problems, including the ability to evaluate the trapezium method in a single line using *trapz*:"
   ]
  },
  {
   "cell_type": "code",
   "execution_count": null,
   "metadata": {
    "colab": {
     "base_uri": "https://localhost:8080/"
    },
    "executionInfo": {
     "elapsed": 9,
     "status": "ok",
     "timestamp": 1646997012546,
     "user": {
      "displayName": "James Threlfall",
      "photoUrl": "https://lh3.googleusercontent.com/a-/AOh14Gh5AMmwJn-QgnyAtyVfjDwEfQL-5FfwAhQ1uZjJ=s64",
      "userId": "12893452708265254015"
     },
     "user_tz": 0
    },
    "id": "5WTAtMJUrZjW",
    "outputId": "4cb0b22e-38a9-4691-a705-1b8646e36626"
   },
   "outputs": [
    {
     "name": "stdout",
     "output_type": "stream",
     "text": [
      "TRAPZ: area= 0.782794117647059 , error= 0.0026040457503893055\n"
     ]
    }
   ],
   "source": [
    "from scipy.integrate import trapz\n",
    "area_trapz = trapz(f,x)\n",
    "print('TRAPZ: area=', area_trapz, ', error=', abs(0.25 * np.pi - area_trapz))"
   ]
  },
  {
   "cell_type": "markdown",
   "metadata": {
    "id": "YwV3uCFwvEkW"
   },
   "source": [
    "Note that the error in the area from *trapz* is identical to that we found earlier creating this method manually. \n",
    "\n",
    "There are a few other numerical integration methods. Try *quad*:"
   ]
  },
  {
   "cell_type": "code",
   "execution_count": null,
   "metadata": {
    "colab": {
     "base_uri": "https://localhost:8080/"
    },
    "executionInfo": {
     "elapsed": 7,
     "status": "ok",
     "timestamp": 1646997012547,
     "user": {
      "displayName": "James Threlfall",
      "photoUrl": "https://lh3.googleusercontent.com/a-/AOh14Gh5AMmwJn-QgnyAtyVfjDwEfQL-5FfwAhQ1uZjJ=s64",
      "userId": "12893452708265254015"
     },
     "user_tz": 0
    },
    "id": "i9fxP7_Zuzz7",
    "outputId": "c4fe1a2e-d496-41ee-c029-4316466dd073"
   },
   "outputs": [
    {
     "name": "stdout",
     "output_type": "stream",
     "text": [
      "QUAD: area= 0.7853981633974484 , error= 1.1102230246251565e-16\n"
     ]
    }
   ],
   "source": [
    "from scipy.integrate import quad\n",
    "area_quad, err = quad(f1, 0, 1)\n",
    "\n",
    "print('QUAD: area=', area_quad, ', error=', abs(0.25 * np.pi - area_quad))"
   ]
  },
  {
   "cell_type": "markdown",
   "metadata": {
    "id": "g2ICodtgwneR"
   },
   "source": [
    "Now that you've seen one example of an integral performed using numerical techniques in Python, try some of the other worked examples in the lectures, or indeed some of the tutorial question **once you have done them by hand first**."
   ]
  },
  {
   "cell_type": "code",
   "execution_count": null,
   "metadata": {
    "id": "2rtbnP6YvZ7g"
   },
   "outputs": [],
   "source": []
  }
 ],
 "metadata": {
  "colab": {
   "collapsed_sections": [],
   "name": "MAT301_Numerical_Integration.ipynb",
   "provenance": [
    {
     "file_id": "1oamZ5WTrtpjgd1_w0IRc7UjOucrtA3Hp",
     "timestamp": 1646858665617
    },
    {
     "file_id": "1Nc66t1YMHbD0IfA3aZxHRKKxED5hmm1y",
     "timestamp": 1646834193385
    },
    {
     "file_id": "https://github.com/john-s-butler-dit/Numerical-Analysis-Python/blob/master/Chapter%2003%20-%20Runge%20Kutta/301_2nd%20Order%20Runge%20Kutta%20Population%20Equations.ipynb",
     "timestamp": 1646748928131
    }
   ]
  },
  "kernelspec": {
   "display_name": "Python 3 (ipykernel)",
   "language": "python",
   "name": "python3"
  },
  "language_info": {
   "codemirror_mode": {
    "name": "ipython",
    "version": 3
   },
   "file_extension": ".py",
   "mimetype": "text/x-python",
   "name": "python",
   "nbconvert_exporter": "python",
   "pygments_lexer": "ipython3",
   "version": "3.8.9"
  }
 },
 "nbformat": 4,
 "nbformat_minor": 1
}
