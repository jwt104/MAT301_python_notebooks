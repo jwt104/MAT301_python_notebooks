{
 "cells": [
  {
   "cell_type": "markdown",
   "metadata": {
    "id": "nlr1Ru5KqTRX"
   },
   "source": [
    "# Differential Equation Solving with Python 2\n",
    "\n",
    "Notebook to implement the 4th order Runge-Kutta scheme to solve differential equations for Abertay University undergrad course MAT301 (JT, 2022).\n",
    "\n",
    "\n",
    "---\n",
    "\n",
    "\n",
    "**Remember:** The aim of MAT301 is for you to understand and implement the mathematics of each iterative solution you have been shown. The MAT301 exam will test your ability to demonstrate the mathematical steps, on pen and paper. \n",
    "\n",
    "These codes are for additional context **once you are able to carry out the mathematical steps**: our ultimate goal is that you are able to create numerical schemes to solve problems for yourselves in future. These codes should **NOT** be used in the exam or replace your pen and paper approach to tutorial problems. However, I do encourage you to use these codes to verify your tutorial solutions after you have already solved the problems mathematically.\n",
    "\n",
    "\n",
    "\n",
    "---\n",
    "\n",
    "\n",
    "Some images and more formal description of the mathematics based upon [Python Programming And Numerical Methods: A Guide For Engineers And Scientists](https://pythonnumericalmethods.berkeley.edu/notebooks/Index.html) which is a really useful resource for many different applications of Python to numerical methods. \n",
    "\n",
    "\n",
    "\n"
   ]
  },
  {
   "cell_type": "markdown",
   "metadata": {
    "id": "Nopr9bZQUGCZ"
   },
   "source": [
    "# 4th Order Runge Kutta Algorithm\n",
    "As seen in lectures, a highly common approach to solve differential equations is to use the RK4 algorithm. This is one of a family of Runge-Kutta (RK) algorithms, which are based on the same mathematical ideas. RK4 is an industry standard, representing a good trade-off between accuracy and complexity.\n",
    "\n",
    "We apply Runge-Kutta algorithms to differential equations which take the same form, namely:\n",
    "\\begin{equation} y^{'} = f(x,y). \\end{equation}\n",
    "The algorithm uses the values of the independent variable $x$ and dependent variable $y$ at specific values ($x_n$ and $y_n$) in order to approximate the next value of $y$ using:\n",
    "\\begin{equation} y_{n+1}=y_n+hk,\\end{equation}\n",
    "for $n=0,...,N-1$. The form of the coeffient $k$ varies depending on the particular RK scheme used; for RK4 we note: \n",
    "\\begin{equation} k=\\frac{1}{6}\\left[ k_1+2k_2+2k_3+k_4\\right],\\end{equation} and individual components $k_1\\rightarrow k_4$ are determined by evaluating the function at different locations according to:\n",
    "\\begin{eqnarray}\n",
    "k_1&=&f\\left(x_n,y_n\\right), \\\\\n",
    "k_2&=&f\\left(x_n+\\frac{1}{2}h,y_n+\\frac{1}{2}hk_1\\right), \\\\\n",
    "k_3&=&f\\left(x_n+\\frac{1}{2}h, y_n+\\frac{1}{2}hk_2\\right), \\\\\n",
    "k_4&=&f\\left(x_n+h, y_n+hk_3\\right).\n",
    "\\end{eqnarray}\n",
    "In all of these examples $h$ is the stepsize with which we step along in $x$.\n",
    "\n",
    "We have already seen in the lectures how the method can be applied to different differential equations. However, the real power of this method lies in its iterative behaviour; we can use computers to crank up the number of steps of calculation (or decrease the step size) to calculate an (approximate) solution over a large range of $x$.\n",
    "\n"
   ]
  },
  {
   "cell_type": "markdown",
   "metadata": {
    "id": "RaEolGImUbMw"
   },
   "source": [
    "To illustrate how this method can be implemented numerically, we will apply it to three initial value problems. These happen to be models of population growth over time, but could in reality be for any type of ordinary differential equation (ODE, or indeed for a system of several coupled ODEs). I have selected these equations because they are broadly related, but gradually increase in complexity. The equations which we will investigate are the following:\n",
    "### 1. Linear \n",
    "Our first ODE will be linear:\n",
    "\\begin{equation} y^{'}=0.1y, \\ \\ (2000 \\leq t \\leq 2020), \\end{equation}\n",
    "with the initial condition,\n",
    "\\begin{equation}y(2000)=6.\\end{equation}\n",
    "\n",
    "### 2. Non-Linear Population Equation \n",
    "Our second ODE will contain more terms and a higher power in $y$:\n",
    "\\begin{equation} y^{'}=0.2y-0.01y^2, \\ \\ (2000 \\leq t \\leq 2020), \\end{equation}\n",
    "with the initial condition,\n",
    "\\begin{equation}y(2000)=6.\\end{equation}\n",
    "\n",
    "### 3. Non-Linear Population Equation with an oscillation \n",
    "Our final ODE will include an extra complication of an oscillatory part added to the previous ODE: \n",
    "\\begin{equation} y^{'}=0.2y-0.01y^2+\\sin(2\\pi t), \\ \\ (2000 \\leq t \\leq 2020), \\end{equation}\n",
    "with the initial condition,\n",
    "\\begin{equation}y(2000)=6.\\end{equation}\n",
    "\n",
    "We will tackle each of these equations in turn, applying the RK4 algorithm to each problem and comparing results with any known analytical solutions of the problem."
   ]
  },
  {
   "cell_type": "markdown",
   "metadata": {
    "id": "5BKUkz0jqTRZ"
   },
   "source": [
    "#### Setting up Libraries\n",
    "\n",
    "As always, we'll make use of some clever python tools for plotting and maths, so our first step is to load in the libraries that store these tools:"
   ]
  },
  {
   "cell_type": "code",
   "execution_count": 1,
   "metadata": {
    "id": "F6L7k675qTRa"
   },
   "outputs": [],
   "source": [
    "## Libraries\n",
    "%matplotlib inline\n",
    "import numpy as np\n",
    "import math \n",
    "import pandas as pd #good library for tables\n",
    "import matplotlib.pyplot as plt \n",
    "import matplotlib.gridspec as gridspec"
   ]
  },
  {
   "cell_type": "markdown",
   "metadata": {
    "id": "pzykh1q-qTRf"
   },
   "source": [
    "## Discrete Interval\n",
    "The independent variable, which for these equations is time, $t$, has a particular range $a\\leq t \\leq b $. We divide this interval into $N$ points separated by a constant stepsize using the equation stated in our lectures:\n",
    "\\begin{equation} h=\\frac{b-a}{N}.\\end{equation}\n",
    "\n",
    "\n",
    "Here, the interval is $2000\\leq t \\leq 2020,$ \n",
    "\\begin{equation} h=\\frac{2020-2000}{200}=0.1.\\end{equation}\n",
    "This gives the 201 discrete points:\n",
    "\\begin{equation} t_0=2000, \\ t_1=2000.1, \\ ... t_{200}=2020, \\end{equation}\n",
    "which we can generalise to\n",
    "\\begin{equation} t_n=2000+0.1n, \\ \\ \\ n=0,1,...,200.\\end{equation}\n",
    "\n",
    "Let's go ahead and set this range of $t$ values as a list in Python:"
   ]
  },
  {
   "cell_type": "code",
   "execution_count": 2,
   "metadata": {
    "id": "OYX2NEUfqTRg"
   },
   "outputs": [],
   "source": [
    "N = 200\n",
    "t_end = 2020.0\n",
    "t_start = 2000.0\n",
    "h = ((t_end - t_start) / N)\n",
    "t = np.arange(t_start, t_end + h / 2, h)"
   ]
  },
  {
   "cell_type": "markdown",
   "metadata": {
    "id": "q6U6K7iZa-nV"
   },
   "source": [
    "Normally, I'd print these, but for this massive range of times I think it would be better to visualise these with a plot: "
   ]
  },
  {
   "cell_type": "code",
   "execution_count": 3,
   "metadata": {
    "colab": {
     "base_uri": "https://localhost:8080/",
     "height": 281
    },
    "executionInfo": {
     "elapsed": 245,
     "status": "ok",
     "timestamp": 1646995514491,
     "user": {
      "displayName": "James Threlfall",
      "photoUrl": "https://lh3.googleusercontent.com/a-/AOh14Gh5AMmwJn-QgnyAtyVfjDwEfQL-5FfwAhQ1uZjJ=s64",
      "userId": "12893452708265254015"
     },
     "user_tz": 0
    },
    "id": "RKt46sT4a_XP",
    "outputId": "0681760b-0b5e-4ba8-9002-970f2d49e678"
   },
   "outputs": [
    {
     "data": {
      "image/png": "[encoded data removed]",
      "text/plain": [
       "<Figure size 720x288 with 1 Axes>"
      ]
     },
     "metadata": {
      "needs_background": "light"
     },
     "output_type": "display_data"
    }
   ],
   "source": [
    "fig = plt.figure(figsize=(10,4))\n",
    "plt.plot(t,0*t,'o:',color='red')\n",
    "plt.title('Illustration of discrete time range for h=%s'%(h))\n",
    "plt.ylim(-0.5,0.5)\n",
    "plt.show()"
   ]
  },
  {
   "cell_type": "markdown",
   "metadata": {
    "id": "gjjlaXtObPAJ"
   },
   "source": [
    "So it looks like our time range works, starting and ending at the correct values and with the correct step size."
   ]
  },
  {
   "cell_type": "markdown",
   "metadata": {
    "id": "GRQBKvheqTRj"
   },
   "source": [
    "# 1. Linear Population Equation\n",
    "\n",
    "### Tailoring our 4th Order Runge Kutta scheme\n",
    "To write the specific 4th Order Runge Kutta method for the linear population equation we need \n",
    "\\begin{equation}f(x,y)=0.1y.\\end{equation}\n",
    "(where I've switched back to calling the dependent variable 'x' rather than time 't' for consistency with lecture notes).\n",
    "\n",
    "So lets go ahead and create a function which returns the right hand side of this equation for a given value of $x$ and $y$:"
   ]
  },
  {
   "cell_type": "code",
   "execution_count": 4,
   "metadata": {
    "id": "g36MCt9kqTRj"
   },
   "outputs": [],
   "source": [
    "def l_fun(x,y):\n",
    "    ftw = 0.1 * y\n",
    "    return ftw"
   ]
  },
  {
   "cell_type": "markdown",
   "metadata": {
    "id": "2tri4OS9qTRm"
   },
   "source": [
    "We now need to evaluate each of the coefficients, beginning with $k_1$. In the lectures we manually calculated formulae to describe each coefficient and evaluate these in a table before combining.\n",
    "\n",
    "The first coefficient, $k_1$, would look like:\n",
    "\\begin{equation}k_1=f\\left(x_n,y_n\\right)=0.1 y_n.\\end{equation}\n",
    "\n",
    "Subsequent coefficients are more complicated to evaluate mathematically, e.g. $k_2$:\n",
    "\\begin{eqnarray}\n",
    "k_2&=&f\\left(x_n+\\frac{h}{2},y_n+\\frac{h}{2}k_1\\right)=0.1\\left(y_n+0.05k_1\\right) \\\\\n",
    "&=&0.1\\left(y_n+0.05(0.1y_n)\\right)=0.1y_n(1+0.005) \\\\\n",
    "&=&0.1y_n(1.005)=0.1005y_n.\n",
    "\\end{eqnarray}\n",
    "This is a lot of mathematical effort to then plug into our calculators!\n",
    "\n",
    "The beauty of this method relies on making the computer to do the hard work for us! Now that we've defined a function to spit out values of $f(x,y)$, we can also evaluate *shifted values* of $x$ and $y$ as input into that function to evaluate $k_1-k_4$, and hence the next iteration of the solution, $y_{n+1}$:"
   ]
  },
  {
   "cell_type": "code",
   "execution_count": 5,
   "metadata": {
    "id": "THwmJrL2qTRm"
   },
   "outputs": [],
   "source": [
    "yn = np.zeros(N + 1)\n",
    "yn[0] = 6.0\n",
    "## 4th Order Runge Kutta\n",
    "for n in range (0,N):\n",
    "    k1 = l_fun(t[n], yn[n])\n",
    "    k2 = l_fun(t[n] + 0.5 * h, yn[n] + 0.5 * h * k1)\n",
    "    k3 = l_fun(t[n] + 0.5 * h, yn[n] + 0.5 * h * k2)\n",
    "    k4 = l_fun(t[n] + h, yn[n] + h * k3)\n",
    "    yn[n + 1] =yn[n] + h / 6.0 * (k1 + 2 * k2 + 2 * k3 + k4)"
   ]
  },
  {
   "cell_type": "markdown",
   "metadata": {
    "id": "5EQeGB9yFXyS"
   },
   "source": [
    "### Exact Solution \n",
    "From MAT201 mathematics, we should also know that this equation can be separated and integrated, using the initial conditions to evaluate any constants of integration.\n",
    "\n",
    "This simple separable first order ODE \n",
    "\\begin{equation} y^{'}=0.1y, \\ \\ (2000 \\leq t \\leq 2020), \\end{equation}\n",
    "with the initial condition,\n",
    "\\begin{equation} y(2000)=6.\\end{equation}\n",
    "has a simple exact (analytic) solution\n",
    "\\begin{equation} y(t)=6e^{0.1(t-2000)}, \\end{equation}\n",
    "which you should be able to derive analytically yourself - see MAT201 notes for a refresher on this!\n"
   ]
  },
  {
   "cell_type": "markdown",
   "metadata": {
    "id": "tLegBPPeqTRp"
   },
   "source": [
    "### Plotting Results\n",
    "\n",
    "We'll now plot the approximate Runge-Kutta solution against the exact solution over time, to see how they behave:"
   ]
  },
  {
   "cell_type": "code",
   "execution_count": 6,
   "metadata": {
    "colab": {
     "base_uri": "https://localhost:8080/",
     "height": 265
    },
    "executionInfo": {
     "elapsed": 6,
     "status": "ok",
     "timestamp": 1646995572546,
     "user": {
      "displayName": "James Threlfall",
      "photoUrl": "https://lh3.googleusercontent.com/a-/AOh14Gh5AMmwJn-QgnyAtyVfjDwEfQL-5FfwAhQ1uZjJ=s64",
      "userId": "12893452708265254015"
     },
     "user_tz": 0
    },
    "id": "4LdkLbOmqTRp",
    "outputId": "d87017e1-8112-4549-f5e8-5a6534039d65"
   },
   "outputs": [
    {
     "data": {
      "image/png": "[encoded data removed]",
      "text/plain": [
       "<Figure size 576x288 with 1 Axes>"
      ]
     },
     "metadata": {
      "needs_background": "light"
     },
     "output_type": "display_data"
    }
   ],
   "source": [
    "y_true = 6 * np.exp(0.1 * (t - 2000))\n",
    "fig = plt.figure(figsize=(8,4))\n",
    "plt.plot(t,yn,'ro:',label='Runge Kutta')\n",
    "plt.plot(t,y_true,'b--',label='Exact')\n",
    "plt.legend(loc='best')\n",
    "plt.show()"
   ]
  },
  {
   "cell_type": "markdown",
   "metadata": {
    "id": "InLe737QF4H4"
   },
   "source": [
    "As one might expect, because of the fourth order accuracy of the RK4 algorithm, both solutions are incredibly well matched when viewed this way.\n",
    "\n",
    "Rather than zoom in to any part of the graph, it can be easier to assess how accurate our scheme is using a table."
   ]
  },
  {
   "cell_type": "markdown",
   "metadata": {
    "id": "SVzOXpE0qTRs"
   },
   "source": [
    "### Tablulating our results\n",
    "The table below shows the time, the Runge Kutta numerical approximation, $y$,  the exact solution, $y_{\\rm{true}}$, and the exact error $|y_{\\rm{true}}(t_n)-y_n|$ for the linear population equation:"
   ]
  },
  {
   "cell_type": "code",
   "execution_count": 7,
   "metadata": {
    "colab": {
     "base_uri": "https://localhost:8080/",
     "height": 363
    },
    "executionInfo": {
     "elapsed": 9,
     "status": "ok",
     "timestamp": 1646995514778,
     "user": {
      "displayName": "James Threlfall",
      "photoUrl": "https://lh3.googleusercontent.com/a-/AOh14Gh5AMmwJn-QgnyAtyVfjDwEfQL-5FfwAhQ1uZjJ=s64",
      "userId": "12893452708265254015"
     },
     "user_tz": 0
    },
    "id": "QaOg9JvvqTRs",
    "outputId": "a111aa7c-b4f2-4b52-dde0-cb07a7f67365"
   },
   "outputs": [
    {
     "data": {
      "text/html": [
       "<div>\n",
       "<style scoped>\n",
       "    .dataframe tbody tr th:only-of-type {\n",
       "        vertical-align: middle;\n",
       "    }\n",
       "\n",
       "    .dataframe tbody tr th {\n",
       "        vertical-align: top;\n",
       "    }\n",
       "\n",
       "    .dataframe thead th {\n",
       "        text-align: right;\n",
       "    }\n",
       "</style>\n",
       "<table border=\"1\" class=\"dataframe\">\n",
       "  <thead>\n",
       "    <tr style=\"text-align: right;\">\n",
       "      <th></th>\n",
       "      <th>time t_n</th>\n",
       "      <th>Runge Kutta (y_n)</th>\n",
       "      <th>Exact (y_true)</th>\n",
       "      <th>Exact Error</th>\n",
       "    </tr>\n",
       "  </thead>\n",
       "  <tbody>\n",
       "    <tr>\n",
       "      <th>0</th>\n",
       "      <td>2000.0</td>\n",
       "      <td>6.000000</td>\n",
       "      <td>6.000000</td>\n",
       "      <td>0.0</td>\n",
       "    </tr>\n",
       "    <tr>\n",
       "      <th>1</th>\n",
       "      <td>2000.1</td>\n",
       "      <td>6.060301</td>\n",
       "      <td>6.060301</td>\n",
       "      <td>0.0</td>\n",
       "    </tr>\n",
       "    <tr>\n",
       "      <th>2</th>\n",
       "      <td>2000.2</td>\n",
       "      <td>6.121208</td>\n",
       "      <td>6.121208</td>\n",
       "      <td>0.0</td>\n",
       "    </tr>\n",
       "    <tr>\n",
       "      <th>3</th>\n",
       "      <td>2000.3</td>\n",
       "      <td>6.182727</td>\n",
       "      <td>6.182727</td>\n",
       "      <td>0.0</td>\n",
       "    </tr>\n",
       "    <tr>\n",
       "      <th>4</th>\n",
       "      <td>2000.4</td>\n",
       "      <td>6.244865</td>\n",
       "      <td>6.244865</td>\n",
       "      <td>0.0</td>\n",
       "    </tr>\n",
       "    <tr>\n",
       "      <th>5</th>\n",
       "      <td>2000.5</td>\n",
       "      <td>6.307627</td>\n",
       "      <td>6.307627</td>\n",
       "      <td>0.0</td>\n",
       "    </tr>\n",
       "    <tr>\n",
       "      <th>6</th>\n",
       "      <td>2000.6</td>\n",
       "      <td>6.371019</td>\n",
       "      <td>6.371019</td>\n",
       "      <td>0.0</td>\n",
       "    </tr>\n",
       "    <tr>\n",
       "      <th>7</th>\n",
       "      <td>2000.7</td>\n",
       "      <td>6.435049</td>\n",
       "      <td>6.435049</td>\n",
       "      <td>0.0</td>\n",
       "    </tr>\n",
       "    <tr>\n",
       "      <th>8</th>\n",
       "      <td>2000.8</td>\n",
       "      <td>6.499722</td>\n",
       "      <td>6.499722</td>\n",
       "      <td>0.0</td>\n",
       "    </tr>\n",
       "    <tr>\n",
       "      <th>9</th>\n",
       "      <td>2000.9</td>\n",
       "      <td>6.565046</td>\n",
       "      <td>6.565046</td>\n",
       "      <td>0.0</td>\n",
       "    </tr>\n",
       "  </tbody>\n",
       "</table>\n",
       "</div>"
      ],
      "text/plain": [
       "   time t_n  Runge Kutta (y_n)  Exact (y_true)  Exact Error\n",
       "0    2000.0           6.000000        6.000000          0.0\n",
       "1    2000.1           6.060301        6.060301          0.0\n",
       "2    2000.2           6.121208        6.121208          0.0\n",
       "3    2000.3           6.182727        6.182727          0.0\n",
       "4    2000.4           6.244865        6.244865          0.0\n",
       "5    2000.5           6.307627        6.307627          0.0\n",
       "6    2000.6           6.371019        6.371019          0.0\n",
       "7    2000.7           6.435049        6.435049          0.0\n",
       "8    2000.8           6.499722        6.499722          0.0\n",
       "9    2000.9           6.565046        6.565046          0.0"
      ]
     },
     "execution_count": 7,
     "metadata": {},
     "output_type": "execute_result"
    }
   ],
   "source": [
    "d = {'time t_n': t[0:10],    'Runge Kutta (y_n)':yn[0:10],'Exact (y_true)':y_true[0:10],'Exact Error':np.abs(np.round(y_true[0:10]-yn[0:10],10))}\n",
    "df = pd.DataFrame(data=d)\n",
    "df"
   ]
  },
  {
   "cell_type": "markdown",
   "metadata": {
    "id": "wdkSen2QGzWW"
   },
   "source": [
    "You'll hopefully note that the error in the final column is zero. This is because the RK4 algorithm is highly accurate and we've used a very complicated algorithm for a very simple ODE. \n",
    "\n",
    "Lets now explore two other Differential Equations where we will slowly crank up the complexity to see if that makes any noticeable difference to our iterative RK4 answers."
   ]
  },
  {
   "cell_type": "markdown",
   "metadata": {
    "id": "fxlfUcFyqTRv"
   },
   "source": [
    "## 2. Non-Linear Differential Equation\n",
    "Our second equation will be a non-linear differential equation (effectively still an ordinary differential equation but with a higher order power of the dependent variable $y$).\n",
    "\n",
    "Since our first equation was an equation describing population evolution over time, we'll choose another differential equation describing population behaviour:\n",
    "\\begin{equation} y^{'}=0.2y-0.01y^2, \\ \\ (2000 \\leq t \\leq 2020), \\end{equation}\n",
    "with the same initial condition as before, namely that\n",
    "\\begin{equation}y(2000)=6.\\end{equation}\n",
    "\n",
    "### Implementing RK4 \n",
    "\n",
    "To write the specific 4th Order Runge Kutta method we need\n",
    "\\begin{equation}f_2(x,y)=0.2y-0.01y^2.\\end{equation}\n",
    "\n",
    "\n",
    "Again we could, if we choose to, calculate $k_1, k_2, k_3, k_4$ by hand, e.g.\n",
    "\\begin{equation}k_1=f_2(x_n,y_n)=0.2y_n-0.01y_n^2.\\end{equation}\n",
    "\n",
    "However, we can again take advantage of the computer, and define a function to return the right hand side of the population equation, and feed in the correct values of $t$ and $y$."
   ]
  },
  {
   "cell_type": "code",
   "execution_count": 8,
   "metadata": {
    "id": "4Pbq4CxMqTRw"
   },
   "outputs": [],
   "source": [
    "def nl_fun(x,y):\n",
    "    ftw = 0.2 * y - 0.01 * y * y\n",
    "    return ftw"
   ]
  },
  {
   "cell_type": "code",
   "execution_count": 9,
   "metadata": {
    "id": "iJjUCyoHqTRy"
   },
   "outputs": [],
   "source": [
    "yn2 = np.zeros(N + 1)\n",
    "yn2[0] = 6.0\n",
    "## 4th Order Runge Kutta\n",
    "for n in range (0, N):\n",
    "    k1 = nl_fun(t[n],yn2[n])\n",
    "    k2 = nl_fun(t[n] + 0.5 * h , yn2[n] + 0.5 * h * k1)\n",
    "    k3 = nl_fun(t[n] + 0.5 * h , yn2[n] + 0.5 * h * k2)\n",
    "    k4 = nl_fun(t[n] + h, yn2[n] + h * k3)\n",
    "    yn2[n+1] = yn2[n] + h / 6.0 * (k1 + 2 * k2 + 2 * k3 + k4)"
   ]
  },
  {
   "cell_type": "markdown",
   "metadata": {
    "id": "nSVhMIVhqTR0"
   },
   "source": [
    "### Results and Graph\n",
    "\n",
    "While this ODE is more complicated, it also has an analytical solution; by again separating and integrating and making use of the standard integral result that \n",
    "\\begin{equation}\n",
    "\\int{\\frac{\\rm{d}x}{x\\left(a+bx\\right)}}=\\frac{1}{a}\\ln{\\left|\\frac{a+bx}{x}\\right|}+c,\n",
    "\\end{equation}\n",
    "we can therefore find:\n",
    "\\begin{equation} y(t)=\\left({5e^{\\dfrac{-(t+c)}{5}}+0.05}\\right)^{-1}, \\end{equation}\n",
    "with a contant of integration \\begin{equation}c=-5\\ln{\\left(\\frac{0.14\\exp{(400)}}{6}\\right)}\\end{equation}\n",
    "\n",
    "The plot below again shows the RK4 numerical approximation, $y_n$ (circles) and the analytical solution to the non-linear population equation:"
   ]
  },
  {
   "cell_type": "code",
   "execution_count": 10,
   "metadata": {
    "colab": {
     "base_uri": "https://localhost:8080/",
     "height": 265
    },
    "executionInfo": {
     "elapsed": 596,
     "status": "ok",
     "timestamp": 1646995562613,
     "user": {
      "displayName": "James Threlfall",
      "photoUrl": "https://lh3.googleusercontent.com/a-/AOh14Gh5AMmwJn-QgnyAtyVfjDwEfQL-5FfwAhQ1uZjJ=s64",
      "userId": "12893452708265254015"
     },
     "user_tz": 0
    },
    "id": "VGO634VDqTR0",
    "outputId": "ccf19c8e-8fb1-4516-894e-90aca19febb7"
   },
   "outputs": [
    {
     "data": {
      "image/png": "[encoded data removed]",
      "text/plain": [
       "<Figure size 576x288 with 1 Axes>"
      ]
     },
     "metadata": {
      "needs_background": "light"
     },
     "output_type": "display_data"
    }
   ],
   "source": [
    "c1 = -5.0 * np.log(0.14 * np.exp(400) / 6.0)\n",
    "y_nltrue = 0.2 / (np.exp(-0.2 * (t + c1)) + 0.01)\n",
    "fig2 = plt.figure(figsize=(8,4))\n",
    "plt.plot(t,yn2,'ro:',label='Runge Kutta')\n",
    "plt.plot(t,y_nltrue,'b--',label='Exact')\n",
    "plt.legend(loc='best')\n",
    "plt.show()"
   ]
  },
  {
   "cell_type": "markdown",
   "metadata": {
    "id": "25wHP_N_X84Z"
   },
   "source": [
    "Once more the plots are indistinguishable, again suggesting that our numerical scheme has found an approximate solution which closely matches the true solution. Once more, a table should again highlight exactly how accurate the approximation is."
   ]
  },
  {
   "cell_type": "markdown",
   "metadata": {
    "id": "XsDAJtseqTR2"
   },
   "source": [
    "### Results Table\n",
    "The table below shows the time and the Runge Kutta numerical approximation, $w$,  for the non-linear population equation:"
   ]
  },
  {
   "cell_type": "code",
   "execution_count": 11,
   "metadata": {
    "colab": {
     "base_uri": "https://localhost:8080/",
     "height": 363
    },
    "executionInfo": {
     "elapsed": 264,
     "status": "ok",
     "timestamp": 1646995609489,
     "user": {
      "displayName": "James Threlfall",
      "photoUrl": "https://lh3.googleusercontent.com/a-/AOh14Gh5AMmwJn-QgnyAtyVfjDwEfQL-5FfwAhQ1uZjJ=s64",
      "userId": "12893452708265254015"
     },
     "user_tz": 0
    },
    "id": "2nvEBzeWqTR2",
    "outputId": "beb53a8b-e079-4762-d7ad-9bf7c8114e1c"
   },
   "outputs": [
    {
     "data": {
      "text/html": [
       "<div>\n",
       "<style scoped>\n",
       "    .dataframe tbody tr th:only-of-type {\n",
       "        vertical-align: middle;\n",
       "    }\n",
       "\n",
       "    .dataframe tbody tr th {\n",
       "        vertical-align: top;\n",
       "    }\n",
       "\n",
       "    .dataframe thead th {\n",
       "        text-align: right;\n",
       "    }\n",
       "</style>\n",
       "<table border=\"1\" class=\"dataframe\">\n",
       "  <thead>\n",
       "    <tr style=\"text-align: right;\">\n",
       "      <th></th>\n",
       "      <th>time t_n</th>\n",
       "      <th>Runge Kutta (y_n)</th>\n",
       "      <th>Exact (y_true)</th>\n",
       "      <th>Exact Error</th>\n",
       "    </tr>\n",
       "  </thead>\n",
       "  <tbody>\n",
       "    <tr>\n",
       "      <th>0</th>\n",
       "      <td>2000.0</td>\n",
       "      <td>6.000000</td>\n",
       "      <td>6.000000</td>\n",
       "      <td>0.000000e+00</td>\n",
       "    </tr>\n",
       "    <tr>\n",
       "      <th>1</th>\n",
       "      <td>2000.1</td>\n",
       "      <td>6.084335</td>\n",
       "      <td>6.084335</td>\n",
       "      <td>0.000000e+00</td>\n",
       "    </tr>\n",
       "    <tr>\n",
       "      <th>2</th>\n",
       "      <td>2000.2</td>\n",
       "      <td>6.169332</td>\n",
       "      <td>6.169332</td>\n",
       "      <td>0.000000e+00</td>\n",
       "    </tr>\n",
       "    <tr>\n",
       "      <th>3</th>\n",
       "      <td>2000.3</td>\n",
       "      <td>6.254983</td>\n",
       "      <td>6.254983</td>\n",
       "      <td>1.000000e-10</td>\n",
       "    </tr>\n",
       "    <tr>\n",
       "      <th>4</th>\n",
       "      <td>2000.4</td>\n",
       "      <td>6.341278</td>\n",
       "      <td>6.341278</td>\n",
       "      <td>1.000000e-10</td>\n",
       "    </tr>\n",
       "    <tr>\n",
       "      <th>5</th>\n",
       "      <td>2000.5</td>\n",
       "      <td>6.428207</td>\n",
       "      <td>6.428207</td>\n",
       "      <td>1.000000e-10</td>\n",
       "    </tr>\n",
       "    <tr>\n",
       "      <th>6</th>\n",
       "      <td>2000.6</td>\n",
       "      <td>6.515759</td>\n",
       "      <td>6.515759</td>\n",
       "      <td>1.000000e-10</td>\n",
       "    </tr>\n",
       "    <tr>\n",
       "      <th>7</th>\n",
       "      <td>2000.7</td>\n",
       "      <td>6.603924</td>\n",
       "      <td>6.603924</td>\n",
       "      <td>1.000000e-10</td>\n",
       "    </tr>\n",
       "    <tr>\n",
       "      <th>8</th>\n",
       "      <td>2000.8</td>\n",
       "      <td>6.692689</td>\n",
       "      <td>6.692689</td>\n",
       "      <td>1.000000e-10</td>\n",
       "    </tr>\n",
       "    <tr>\n",
       "      <th>9</th>\n",
       "      <td>2000.9</td>\n",
       "      <td>6.782043</td>\n",
       "      <td>6.782043</td>\n",
       "      <td>2.000000e-10</td>\n",
       "    </tr>\n",
       "  </tbody>\n",
       "</table>\n",
       "</div>"
      ],
      "text/plain": [
       "   time t_n  Runge Kutta (y_n)  Exact (y_true)   Exact Error\n",
       "0    2000.0           6.000000        6.000000  0.000000e+00\n",
       "1    2000.1           6.084335        6.084335  0.000000e+00\n",
       "2    2000.2           6.169332        6.169332  0.000000e+00\n",
       "3    2000.3           6.254983        6.254983  1.000000e-10\n",
       "4    2000.4           6.341278        6.341278  1.000000e-10\n",
       "5    2000.5           6.428207        6.428207  1.000000e-10\n",
       "6    2000.6           6.515759        6.515759  1.000000e-10\n",
       "7    2000.7           6.603924        6.603924  1.000000e-10\n",
       "8    2000.8           6.692689        6.692689  1.000000e-10\n",
       "9    2000.9           6.782043        6.782043  2.000000e-10"
      ]
     },
     "execution_count": 11,
     "metadata": {},
     "output_type": "execute_result"
    }
   ],
   "source": [
    "d = {'time t_n': t[0:10],'Runge Kutta (y_n)':yn2[0:10],'Exact (y_true)':y_nltrue[0:10],\n",
    "     'Exact Error':np.abs(np.round(y_nltrue[0:10]-yn2[0:10],10))}\n",
    "df = pd.DataFrame(data=d)\n",
    "df"
   ]
  },
  {
   "cell_type": "markdown",
   "metadata": {
    "id": "7-YP7NTlYnW-"
   },
   "source": [
    "The table illustrates that for this equation, a very small (but nevertheless non-zero) error creeps in after a few timesteps, and appears to grow every few steps.\n",
    "\n",
    "The first few steps in the table are likely to be zero due to rounding: this worksheet displays numbers to a preset number of decimal places."
   ]
  },
  {
   "cell_type": "markdown",
   "metadata": {
    "id": "alLm7_PfqTR4"
   },
   "source": [
    "## 3. Non-Linear Population Equation with an oscillation \n",
    "In our final differential equation, lets yet again use a more complex population model and evaluate how well RK4 does. The population model is essentially the previous model with an additional sine term (representing shorter fluctuations in population than the long term behaviour):\n",
    "\n",
    "\\begin{equation} y^{'}=0.2y-0.01y^2+\\sin(2\\pi t), \\ \\ (2000 \\leq t \\leq 2020), \\end{equation}\n",
    "with the initial condition,\n",
    "\\begin{equation}y(2000)=6.\\end{equation}\n",
    "\n",
    "### Implementing RK4\n",
    "As with the previous cases, lets express the right hand side of the ODE as a function\n",
    "\\begin{equation}f_3(x,y)=0.2y-0.01y^2+\\sin(2\\pi x),\\end{equation}\n",
    "\n",
    "Once again, we could mathematically calculate expressions for $k_1\\rightarrow k_4$. \n",
    "This time though, you can see that $f_3(x,y)$ now contains terms that depend on $y$ **and** $t$!\n",
    "\n",
    "Now that we're more familiar with how to implement RK4 numerically, we'll simply move on to define our function representing $f_3(x,y)$ and let the code evaluate the coefficients:"
   ]
  },
  {
   "cell_type": "code",
   "execution_count": 12,
   "metadata": {
    "id": "KcPh153LqTR4"
   },
   "outputs": [],
   "source": [
    "def nlo_fun(x, y):\n",
    "    ftw = 0.2 * y - 0.01 * y * y + np.sin(2 * np.math.pi * x)\n",
    "    return ftw"
   ]
  },
  {
   "cell_type": "code",
   "execution_count": 13,
   "metadata": {
    "id": "XqdqPm6ZqTR6"
   },
   "outputs": [],
   "source": [
    "yn3 = np.zeros(N + 1)\n",
    "yn3[0] = 6.0\n",
    "## 4th Order Runge Kutta\n",
    "for n in range (0,N):\n",
    "    k1 = nlo_fun(t[n],yn3[n])\n",
    "    k2 = nlo_fun(t[n] + 0.5 * h, yn3[n] + 0.5 * h * k1)\n",
    "    k3 = nlo_fun(t[n] + 0.5 * h, yn3[n] + 0.5 * h * k2)\n",
    "    k4 = nlo_fun(t[n] + h, yn3[n] + h * k3)\n",
    "    yn3[n + 1] = yn3[n] + h / 6.0 * (k1 + 2 * k2 + 2 * k3 + k4)"
   ]
  },
  {
   "cell_type": "markdown",
   "metadata": {
    "id": "EqJ4WI_VqTR8"
   },
   "source": [
    "### Results Graph\n",
    "This final ODE is quite a lot more complicated than the two previous ones (note for example, that it's not separable). We could employ more advanced mathematical techniques to derive an analytical solution, but that isn't the focus of our work here, so for now we'll just focus on the RK4 solution that we obtain from our numerical technique \n",
    "\n",
    "The plot below shows the 4th order Runge Kutta numerical approximation, $y$ (circles) for the non-linear population equation:"
   ]
  },
  {
   "cell_type": "code",
   "execution_count": 14,
   "metadata": {
    "colab": {
     "base_uri": "https://localhost:8080/",
     "height": 265
    },
    "executionInfo": {
     "elapsed": 5,
     "status": "ok",
     "timestamp": 1646995590717,
     "user": {
      "displayName": "James Threlfall",
      "photoUrl": "https://lh3.googleusercontent.com/a-/AOh14Gh5AMmwJn-QgnyAtyVfjDwEfQL-5FfwAhQ1uZjJ=s64",
      "userId": "12893452708265254015"
     },
     "user_tz": 0
    },
    "id": "iHNXCSpHqTR8",
    "outputId": "b7ab46e9-602b-4e10-cf8d-33706e2a9ddf"
   },
   "outputs": [
    {
     "data": {
      "image/png": "[encoded data removed]",
      "text/plain": [
       "<Figure size 576x288 with 1 Axes>"
      ]
     },
     "metadata": {
      "needs_background": "light"
     },
     "output_type": "display_data"
    }
   ],
   "source": [
    "fig3 = plt.figure(figsize=(8,4))\n",
    "plt.plot(t,yn3,'bo:',label='RK4')\n",
    "plt.legend(loc='best')\n",
    "plt.show()"
   ]
  },
  {
   "cell_type": "markdown",
   "metadata": {
    "id": "Tq5oFE2zbJCm"
   },
   "source": [
    "The graph shows the behaviour of the solution; as we might expect the overal population increase that we witnessed in case 2 has been modified by a shorter oscillatory pattern.\n",
    "\n",
    "This emphasises the power of RK4: we have used it to solve an equation which has **no simply analytical solution**. Given our previous test case, we can be confident of a high degree of accuracy, despite having no solution to compare it too."
   ]
  },
  {
   "cell_type": "markdown",
   "metadata": {
    "id": "tzflYVlOqTR9"
   },
   "source": [
    "### Results Table\n",
    "The table below shows the time and RK4 solution, $yn3$,  for the non-linear population equation:"
   ]
  },
  {
   "cell_type": "code",
   "execution_count": 15,
   "metadata": {
    "colab": {
     "base_uri": "https://localhost:8080/",
     "height": 363
    },
    "executionInfo": {
     "elapsed": 7,
     "status": "ok",
     "timestamp": 1646995515418,
     "user": {
      "displayName": "James Threlfall",
      "photoUrl": "https://lh3.googleusercontent.com/a-/AOh14Gh5AMmwJn-QgnyAtyVfjDwEfQL-5FfwAhQ1uZjJ=s64",
      "userId": "12893452708265254015"
     },
     "user_tz": 0
    },
    "id": "Mj0ZTItPqTR-",
    "outputId": "e9a175c3-c66c-44a5-f0f3-fbf053cc5a9d"
   },
   "outputs": [
    {
     "data": {
      "text/html": [
       "<div>\n",
       "<style scoped>\n",
       "    .dataframe tbody tr th:only-of-type {\n",
       "        vertical-align: middle;\n",
       "    }\n",
       "\n",
       "    .dataframe tbody tr th {\n",
       "        vertical-align: top;\n",
       "    }\n",
       "\n",
       "    .dataframe thead th {\n",
       "        text-align: right;\n",
       "    }\n",
       "</style>\n",
       "<table border=\"1\" class=\"dataframe\">\n",
       "  <thead>\n",
       "    <tr style=\"text-align: right;\">\n",
       "      <th></th>\n",
       "      <th>time t_n</th>\n",
       "      <th>Runge Kutta</th>\n",
       "    </tr>\n",
       "  </thead>\n",
       "  <tbody>\n",
       "    <tr>\n",
       "      <th>0</th>\n",
       "      <td>2000.0</td>\n",
       "      <td>6.000000</td>\n",
       "    </tr>\n",
       "    <tr>\n",
       "      <th>1</th>\n",
       "      <td>2000.1</td>\n",
       "      <td>6.114813</td>\n",
       "    </tr>\n",
       "    <tr>\n",
       "      <th>2</th>\n",
       "      <td>2000.2</td>\n",
       "      <td>6.279909</td>\n",
       "    </tr>\n",
       "    <tr>\n",
       "      <th>3</th>\n",
       "      <td>2000.3</td>\n",
       "      <td>6.465115</td>\n",
       "    </tr>\n",
       "    <tr>\n",
       "      <th>4</th>\n",
       "      <td>2000.4</td>\n",
       "      <td>6.632805</td>\n",
       "    </tr>\n",
       "    <tr>\n",
       "      <th>5</th>\n",
       "      <td>2000.5</td>\n",
       "      <td>6.752294</td>\n",
       "    </tr>\n",
       "    <tr>\n",
       "      <th>6</th>\n",
       "      <td>2000.6</td>\n",
       "      <td>6.811571</td>\n",
       "    </tr>\n",
       "    <tr>\n",
       "      <th>7</th>\n",
       "      <td>2000.7</td>\n",
       "      <td>6.821875</td>\n",
       "    </tr>\n",
       "    <tr>\n",
       "      <th>8</th>\n",
       "      <td>2000.8</td>\n",
       "      <td>6.813379</td>\n",
       "    </tr>\n",
       "    <tr>\n",
       "      <th>9</th>\n",
       "      <td>2000.9</td>\n",
       "      <td>6.823656</td>\n",
       "    </tr>\n",
       "  </tbody>\n",
       "</table>\n",
       "</div>"
      ],
      "text/plain": [
       "   time t_n  Runge Kutta\n",
       "0    2000.0     6.000000\n",
       "1    2000.1     6.114813\n",
       "2    2000.2     6.279909\n",
       "3    2000.3     6.465115\n",
       "4    2000.4     6.632805\n",
       "5    2000.5     6.752294\n",
       "6    2000.6     6.811571\n",
       "7    2000.7     6.821875\n",
       "8    2000.8     6.813379\n",
       "9    2000.9     6.823656"
      ]
     },
     "execution_count": 15,
     "metadata": {},
     "output_type": "execute_result"
    }
   ],
   "source": [
    "d = {'time t_n': t[0:10], 'Runge Kutta':yn3[0:10]}\n",
    "df = pd.DataFrame(data=d)\n",
    "df"
   ]
  },
  {
   "cell_type": "markdown",
   "metadata": {
    "id": "cH-1Bl9rMOxR"
   },
   "source": [
    "## Python ODE solvers\n",
    "\n",
    "Python is a clever bit of kit, with entire libraries dedicated to solving numerical problems like these. Some of these libraries even come with built in solvers to carry out the tasks we have just performed. If you feed a particular function, initial/final values, and even explicit grid-size to these solvers, we can obtain automated solutions to our problem:"
   ]
  },
  {
   "cell_type": "code",
   "execution_count": 16,
   "metadata": {
    "id": "7J6X6wCBMjzT"
   },
   "outputs": [],
   "source": [
    "from scipy.integrate import solve_ivp\n",
    "sol = solve_ivp(nlo_fun, [t_start, t_end], [6.0], t_eval=t)\n",
    "sol2 = solve_ivp(nlo_fun, [t_start, t_end], [6.0],  method='DOP853', t_eval=t)"
   ]
  },
  {
   "cell_type": "code",
   "execution_count": 18,
   "metadata": {
    "colab": {
     "base_uri": "https://localhost:8080/",
     "height": 265
    },
    "executionInfo": {
     "elapsed": 345,
     "status": "ok",
     "timestamp": 1646995616115,
     "user": {
      "displayName": "James Threlfall",
      "photoUrl": "https://lh3.googleusercontent.com/a-/AOh14Gh5AMmwJn-QgnyAtyVfjDwEfQL-5FfwAhQ1uZjJ=s64",
      "userId": "12893452708265254015"
     },
     "user_tz": 0
    },
    "id": "eu2IpzNtN5kW",
    "outputId": "65b1915d-96d7-4670-e311-b50fa56568db"
   },
   "outputs": [
    {
     "data": {
      "image/png": "[encoded data removed]",
      "text/plain": [
       "<Figure size 576x288 with 1 Axes>"
      ]
     },
     "metadata": {
      "needs_background": "light"
     },
     "output_type": "display_data"
    }
   ],
   "source": [
    "fig3 = plt.figure(figsize=(8,4))\n",
    "plt.plot(sol.t,sol.y[0],'b:',label='ivpRK45')\n",
    "plt.plot(sol2.t,sol2.y[0],'r:',label='ivpDOP853')\n",
    "plt.legend(loc='best')\n",
    "plt.show()"
   ]
  },
  {
   "cell_type": "markdown",
   "metadata": {
    "id": "HA1HMapeQM5E"
   },
   "source": [
    "Note that the native RK45 routine in this package finds a slightly different solution to the 8th order accurate *DOP853* method. If you opt to use intrinsic functions, you need to take care that they are set up correctly, preferably testing them on some simple examples first!\n",
    "\n",
    "Investigate the documentation of the *solve_ivp* function from the *scipy.integrate* package, to explore this process in detail."
   ]
  },
  {
   "cell_type": "markdown",
   "metadata": {
    "id": "bxqFs-xhb76b"
   },
   "source": [
    "## Further work\n",
    "Now its over to you:\n",
    "\n",
    "Try choosing a worked example seen in the lectures, or indeed a tutorial question **once you have worked through the mathematical steps** and see if you can create a new implementation of RK4 to verify the solution!"
   ]
  },
  {
   "cell_type": "code",
   "execution_count": null,
   "metadata": {
    "id": "5UolyYCMV1uQ"
   },
   "outputs": [],
   "source": []
  }
 ],
 "metadata": {
  "colab": {
   "collapsed_sections": [
    "nlr1Ru5KqTRX",
    "5EQeGB9yFXyS"
   ],
   "name": "MAT301_DifferentialEquationSolving2.ipynb",
   "provenance": [
    {
     "file_id": "https://github.com/john-s-butler-dit/Numerical-Analysis-Python/blob/master/Chapter%2003%20-%20Runge%20Kutta/301_2nd%20Order%20Runge%20Kutta%20Population%20Equations.ipynb",
     "timestamp": 1646748928131
    }
   ]
  },
  "kernelspec": {
   "display_name": "Python 3 (ipykernel)",
   "language": "python",
   "name": "python3"
  },
  "language_info": {
   "codemirror_mode": {
    "name": "ipython",
    "version": 3
   },
   "file_extension": ".py",
   "mimetype": "text/x-python",
   "name": "python",
   "nbconvert_exporter": "python",
   "pygments_lexer": "ipython3",
   "version": "3.8.9"
  }
 },
 "nbformat": 4,
 "nbformat_minor": 1
}
